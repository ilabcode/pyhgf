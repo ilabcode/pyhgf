{
 "cells": [
  {
   "cell_type": "markdown",
   "id": "3d531da8-f5e7-4979-9c95-a2dd12c8298e",
   "metadata": {
    "editable": true,
    "slideshow": {
     "slide_type": ""
    },
    "tags": []
   },
   "source": [
    "(multilevel_hgf)=\n",
    "# Hierarchical Bayesian modelling with probabilistic neural networks"
   ]
  },
  {
   "cell_type": "markdown",
   "id": "ab7fa0a5-7fc9-47b8-96da-4ff5820a8f70",
   "metadata": {
    "editable": true,
    "execution": {
     "iopub.execute_input": "2023-11-06T08:59:25.111871Z",
     "iopub.status.busy": "2023-11-06T08:59:25.110906Z",
     "iopub.status.idle": "2023-11-06T08:59:25.122657Z",
     "shell.execute_reply": "2023-11-06T08:59:25.121477Z"
    },
    "slideshow": {
     "slide_type": ""
    },
    "tags": []
   },
   "source": [
    "[![Open In Colab](https://colab.research.google.com/assets/colab-badge.svg)](https://colab.research.google.com/github/ComputationalPsychiatry/pyhgf/blob/master/docs/source/notebooks/3-Multilevel_HGF.ipynb)"
   ]
  },
  {
   "cell_type": "code",
   "execution_count": 1,
   "id": "ba34f2ab-bca8-499d-bfd5-f2c022409b50",
   "metadata": {
    "editable": true,
    "execution": {
     "iopub.execute_input": "2024-09-27T12:27:36.935741Z",
     "iopub.status.busy": "2024-09-27T12:27:36.935279Z",
     "iopub.status.idle": "2024-09-27T12:27:36.944423Z",
     "shell.execute_reply": "2024-09-27T12:27:36.942921Z"
    },
    "slideshow": {
     "slide_type": ""
    },
    "tags": [
     "hide-cell"
    ]
   },
   "outputs": [],
   "source": [
    "import sys\n",
    "\n",
    "from IPython.utils import io\n",
    "\n",
    "if 'google.colab' in sys.modules:\n",
    "\n",
    "  with io.capture_output() as captured:\n",
    "      ! pip install pyhgf watermark"
   ]
  },
  {
   "cell_type": "code",
   "execution_count": 2,
   "id": "b2718c0d-5a41-4f56-89be-80318f9ab728",
   "metadata": {
    "editable": true,
    "execution": {
     "iopub.execute_input": "2024-09-27T12:27:36.947964Z",
     "iopub.status.busy": "2024-09-27T12:27:36.947746Z",
     "iopub.status.idle": "2024-09-27T12:27:42.528125Z",
     "shell.execute_reply": "2024-09-27T12:27:42.527056Z"
    },
    "slideshow": {
     "slide_type": ""
    },
    "tags": [
     "hide-cell"
    ]
   },
   "outputs": [
    {
     "name": "stderr",
     "output_type": "stream",
     "text": [
      "An NVIDIA GPU may be present on this machine, but a CUDA-enabled jaxlib is not installed. Falling back to cpu.\n"
     ]
    }
   ],
   "source": [
    "import arviz as az\n",
    "import matplotlib.pyplot as plt\n",
    "import numpy as np\n",
    "import pymc as pm\n",
    "import pytensor.tensor as pt\n",
    "import seaborn as sns\n",
    "\n",
    "from pyhgf import load_data\n",
    "from pyhgf.distribution import HGFDistribution, HGFPointwise\n",
    "from pyhgf.model import HGF\n",
    "from pyhgf.response import binary_softmax_inverse_temperature\n",
    "\n",
    "plt.rcParams[\"figure.constrained_layout.use\"] = True"
   ]
  },
  {
   "cell_type": "code",
   "execution_count": 3,
   "id": "20aba0ed-e8c6-4276-8778-496528d41232",
   "metadata": {
    "execution": {
     "iopub.execute_input": "2024-09-27T12:27:42.531599Z",
     "iopub.status.busy": "2024-09-27T12:27:42.531123Z",
     "iopub.status.idle": "2024-09-27T12:27:42.535283Z",
     "shell.execute_reply": "2024-09-27T12:27:42.534456Z"
    }
   },
   "outputs": [],
   "source": [
    "np.random.seed(123)"
   ]
  },
  {
   "cell_type": "markdown",
   "id": "dbef25ef-44e0-4d35-bfa4-5be3bb3a393e",
   "metadata": {},
   "source": [
    "In the previous tutorials, we have fitted the binary, categorical and continuous Hierarchical Gaussian Filters (HGF) to observations to infer the values of specific parameters of the networks. proceeding this way, we were simulating computations occurring at the agent level (i.e. both the observations and actions were made by one agent, and we estimated the posterior density distribution of parameters for that agent). However, many situations in experimental neuroscience and computational psychiatry will require us to go one step further and to make inferences at the population level, therefore fitting many models at the same time and estimating the density distribution of hyper-priors (see for example case studies from {cite:p}`2014:lee`). \n",
    "\n",
    "Luckily, we already have all the components in place to do that. We already used Bayesian networks in the previous sections when we were inferring the distribution of some parameters. Here, we only had one agent (i.e. one participant), and therefore did not need any hyperprior. We need to extend this approach a bit, and explicitly state that we want to fit many models (participants) simultaneously, and draw the values of some parameters from a hyper-prior (i.e. the group-level distribution).\n",
    "\n",
    "But before we move forward, maybe it is worth clarifying some of the terminology we use, especially as, starting from now, many things are called **networks** but are pointing to different parts of the workflow. We can indeed distinguish two kinds:\n",
    "1. The predictive coding neural networks. This is the kind of network that [pyhgf](https://github.com/ComputationalPsychiatry/pyhgf) is designed to handle (see {ref}`probabilistic_networks`). Every HGF model is an instance of such a network.\n",
    "2. The Bayesian (multilevel) network is the computational graph that is created with tools like [pymc](https://www.pymc.io/welcome.html). This graph will represent the dependencies between our variables and the way they are transformed.\n",
    "\n",
    "In this notebook, we are going to create the second type of network and incorporate many networks of the first type in it as custom distribution."
   ]
  },
  {
   "cell_type": "markdown",
   "id": "53466426-074d-4f49-b006-5086fb77a597",
   "metadata": {},
   "source": [
    "## Simulate a dataset\n",
    "We start by simulating a dataset containing the decisions from a group of participants undergoing a standard one-armed bandit task. We use the same binary time series as a reference as the previous tutorials. This would represent the association between the stimuli and the outcome, the experimenter controls this and here we assume all participants are presented with the same sequence of association."
   ]
  },
  {
   "cell_type": "code",
   "execution_count": 4,
   "id": "14bd6de6-10d1-4440-861b-f6af6fe940c9",
   "metadata": {
    "execution": {
     "iopub.execute_input": "2024-09-27T12:27:42.537862Z",
     "iopub.status.busy": "2024-09-27T12:27:42.537642Z",
     "iopub.status.idle": "2024-09-27T12:27:42.546427Z",
     "shell.execute_reply": "2024-09-27T12:27:42.545309Z"
    }
   },
   "outputs": [],
   "source": [
    "u, _ = load_data(\"binary\")"
   ]
  },
  {
   "cell_type": "markdown",
   "id": "38710a5d-57d8-48b7-9257-862fd2c9236c",
   "metadata": {},
   "source": [
    "Using the same reasoning as in the previous tutorial {ref}`custom_response_functions`, we simulate the trajectories of beliefs from participants being presented with this sequence of observation. Here, we vary one parameter in the perceptual model, we assume that the tonic volatility ($\\omega$) from the second level is sampled from a population distribution such as: \n",
    "\n",
    "$$\n",
    "\\omega_{2_i} \\sim \\mathcal{N}(-4.0, 1.0)\n",
    "$$\n",
    "\n",
    "This produces belief trajectories that can be used to infer propensity for decision at each time point. Moreover, we will assume that the decision function incorporates the possibility of a bias in the link between the belief and the decision in the form of the inverse temperature parameter, such as:\n",
    "\n",
    "$$\n",
    "P(A|\\mu, t) = \\frac{\\mu^t}{\\mu^t + (1-\\mu)^t}\n",
    "$$\n",
    "\n",
    "Where $A$ is a positive association between the stimulus and the outcome, $\\mu = \\hat{\\mu}_1^{(k)}$, the expected probability from the first level and $t$ is the temperature parameter. We sample the temperature parameter from a log-normal distribution to ensure positivity such as:\n",
    "\n",
    "$$\n",
    "z_{i} \\sim \\mathcal{N}(0.5, 0.5) \\\\\n",
    "temperature = e^z\n",
    "$$"
   ]
  },
  {
   "cell_type": "code",
   "execution_count": 5,
   "id": "e590009e-89c1-410a-a05b-8a2c34e10b65",
   "metadata": {
    "execution": {
     "iopub.execute_input": "2024-09-27T12:27:42.549013Z",
     "iopub.status.busy": "2024-09-27T12:27:42.548812Z",
     "iopub.status.idle": "2024-09-27T12:27:42.552595Z",
     "shell.execute_reply": "2024-09-27T12:27:42.551730Z"
    }
   },
   "outputs": [],
   "source": [
    "def sigmoid(x, temperature):\n",
    "    \"\"\"The sigmoid response function with inverse temperature parameter.\"\"\"\n",
    "    return (x**temperature) / (x**temperature + (1 - x) ** temperature)"
   ]
  },
  {
   "cell_type": "code",
   "execution_count": 6,
   "id": "710fa85f-ea28-4405-97f5-43a93e1850b9",
   "metadata": {
    "editable": true,
    "execution": {
     "iopub.execute_input": "2024-09-27T12:27:42.554593Z",
     "iopub.status.busy": "2024-09-27T12:27:42.554404Z",
     "iopub.status.idle": "2024-09-27T12:27:42.828916Z",
     "shell.execute_reply": "2024-09-27T12:27:42.828150Z"
    },
    "scrolled": true,
    "slideshow": {
     "slide_type": ""
    },
    "tags": [
     "hide-input"
    ]
   },
   "outputs": [
    {
     "data": {
      "image/png": "[encoded data removed]",
      "text/plain": [
       "<Figure size 640x480 with 1 Axes>"
      ]
     },
     "metadata": {},
     "output_type": "display_data"
    }
   ],
   "source": [
    "x = np.linspace(0, 1, 500)\n",
    "sns.set_palette(\"rocket\")\n",
    "for temp in [0.5, 1.0, 6.0, 64.0]:\n",
    "    plt.plot(x, sigmoid(x, temp), label=rf\"$ \\lambda = {temp}$\")\n",
    "plt.title(\"The unit square sigmoid function\")\n",
    "plt.legend()\n",
    "sns.despine();"
   ]
  },
  {
   "cell_type": "code",
   "execution_count": 7,
   "id": "b4f45d4c-3dbf-4b35-a719-55a53e5bac98",
   "metadata": {
    "editable": true,
    "execution": {
     "iopub.execute_input": "2024-09-27T12:27:42.832738Z",
     "iopub.status.busy": "2024-09-27T12:27:42.831948Z",
     "iopub.status.idle": "2024-09-27T12:27:42.836843Z",
     "shell.execute_reply": "2024-09-27T12:27:42.835958Z"
    },
    "slideshow": {
     "slide_type": ""
    },
    "tags": []
   },
   "outputs": [],
   "source": [
    "N = 10  # number of agents/participants in the study\n",
    "\n",
    "# create just one default network - we will simply change the values of interest before fitting to save time\n",
    "agent = HGF(\n",
    "    n_levels=2,\n",
    "    model_type=\"binary\",\n",
    "    initial_mean={\"1\": 0.5, \"2\": 0.0},\n",
    ")"
   ]
  },
  {
   "cell_type": "code",
   "execution_count": 8,
   "id": "81e72352-779b-4ed0-9bf4-e593a7c55c90",
   "metadata": {
    "execution": {
     "iopub.execute_input": "2024-09-27T12:27:42.840459Z",
     "iopub.status.busy": "2024-09-27T12:27:42.839695Z",
     "iopub.status.idle": "2024-09-27T12:27:43.171971Z",
     "shell.execute_reply": "2024-09-27T12:27:43.171391Z"
    }
   },
   "outputs": [],
   "source": [
    "# observations (always the same), simulated decisions, sample values for temperature and volatility\n",
    "responses = []\n",
    "for i in range(N):\n",
    "    # sample one new value of the tonic volatility at the second level and fit to observations\n",
    "    volatility = np.random.normal(-4.0, 1.0)\n",
    "    agent.attributes[1][\"tonic_volatility\"] = volatility\n",
    "    agent.input_data(input_data=u)\n",
    "\n",
    "    # sample one value for the inverse temperature (here in log space) and simulate responses\n",
    "    temperature = np.exp(np.random.normal(0.5, 0.5))\n",
    "    p = sigmoid(x=agent.node_trajectories[0][\"expected_mean\"], temperature=temperature)\n",
    "\n",
    "    # store observations and decisions separately\n",
    "    responses.append(np.random.binomial(p=p, n=1))\n",
    "responses = np.array(responses)"
   ]
  },
  {
   "cell_type": "markdown",
   "id": "6e283a78-329c-470c-8f62-7fb12b5b5861",
   "metadata": {
    "tags": []
   },
   "source": [
    "## Group-level inference\n",
    "\n",
    "In this section, we start embedding the HGF in a multilevel model using PyMC. We use the same core distribution (the [HGFDistribution class](pyhgf.distribution.HGFDistribution)) and leverage the possibility of automatic broadcasting to apply the same procedure to multiple HGF models in parallel. Note that the input data, time steps and responses should be provided as a Numpy array where the first dimension is the number of models to fit in parallel (in that case this corresponds to the number of participants). Thanks to automatic broadcasting, we can parametrize our distributions either using a float or using a vector that maps the number of models."
   ]
  },
  {
   "cell_type": "markdown",
   "id": "48020213-7f26-4201-b4b9-f072231bc225",
   "metadata": {},
   "source": [
    "```{note} Using automatic broadcasting\n",
    "To estimate group-level parameters, we will have to fit multiple models at the same time, either on different input data, on the same data with different parameters or on different datasets with different parameters. This step is handled natively both by the [log probability function](pyhgf.distribution.hgf_logp) and the [HGFDistribution class](pyhgf.distribution.HGFDistribution) using a pseudo [broadcasting](https://numpy.org/doc/stable/user/basics.broadcasting.html) approach. When a list of *n* input time series is provided, the function will automatically apply *n* models using the provided parameters. If for some parameters an array of length *n* is provided, each model will use the n-th value as a parameter. Here, we are going to rely on this feature to compute the log probability of *n* model, using *n* time series as input and *n* different parameters to test.\n",
    "```"
   ]
  },
  {
   "cell_type": "markdown",
   "id": "d8626211-c4d0-4347-8711-2af1474b98a2",
   "metadata": {},
   "source": [
    "```{hint} Observing the observer\n",
    "As we explained in the first part of the tutorials, probabilistic networks *observe* their environment through the inputs they receive and update beliefs using inversion of the generative model they assume for this environment. Here, we are taking a step back and want to use actions from agents that we assume are using such networks to make decisions to infer the values of some parameters from those networks. This is often referred to as *observing the observer* and this comes with a different concept of observations. Here, observations are the behaviours we can observe from the network and are directly influenced by the response model we define (i.e. how an agent uses its beliefs to act on the environment). The input data that are fed to the network are fixed, therefore we declare it when we create the HGF function compatible with [PyTensor](https://pytensor.readthedocs.io). The actions, or responses we get from the participant, are the things we want to explain using the PyMC model, therefor we treat it as observation in a custom distribution, a distribution that can simulate the behaviour of HGF networks under a set of parameters.\n",
    "```"
   ]
  },
  {
   "cell_type": "code",
   "execution_count": 9,
   "id": "e3cb9a9e-951f-4048-b04b-c985028dba2d",
   "metadata": {
    "editable": true,
    "execution": {
     "iopub.execute_input": "2024-09-27T12:27:43.174662Z",
     "iopub.status.busy": "2024-09-27T12:27:43.174457Z",
     "iopub.status.idle": "2024-09-27T12:27:43.178190Z",
     "shell.execute_reply": "2024-09-27T12:27:43.177703Z"
    },
    "slideshow": {
     "slide_type": ""
    },
    "tags": []
   },
   "outputs": [],
   "source": [
    "hgf_logp_op = HGFDistribution(\n",
    "    n_levels=2,\n",
    "    model_type=\"binary\",\n",
    "    input_data=u[np.newaxis, :].repeat(\n",
    "        N, axis=0\n",
    "    ),  # the inputs are the same for all agents - just duplicate the array\n",
    "    response_function=binary_softmax_inverse_temperature,\n",
    "    response_function_inputs=responses,\n",
    ")"
   ]
  },
  {
   "cell_type": "code",
   "execution_count": 10,
   "id": "7ab89a5c-a0fe-45f7-83fe-a278f8d80a34",
   "metadata": {
    "execution": {
     "iopub.execute_input": "2024-09-27T12:27:43.180435Z",
     "iopub.status.busy": "2024-09-27T12:27:43.180243Z",
     "iopub.status.idle": "2024-09-27T12:27:43.184093Z",
     "shell.execute_reply": "2024-09-27T12:27:43.183059Z"
    }
   },
   "outputs": [],
   "source": [
    "def logp(value, tonic_volatility_2, inverse_temperature):\n",
    "    return hgf_logp_op(\n",
    "        tonic_volatility_2=tonic_volatility_2,\n",
    "        response_function_parameters=pt.flatten(inverse_temperature),\n",
    "    )"
   ]
  },
  {
   "cell_type": "code",
   "execution_count": 11,
   "id": "5654b288",
   "metadata": {
    "execution": {
     "iopub.execute_input": "2024-09-27T12:27:43.186585Z",
     "iopub.status.busy": "2024-09-27T12:27:43.186173Z",
     "iopub.status.idle": "2024-09-27T12:27:44.355053Z",
     "shell.execute_reply": "2024-09-27T12:27:44.354205Z"
    }
   },
   "outputs": [
    {
     "data": {
      "text/plain": [
       "array(-1938.53662109)"
      ]
     },
     "execution_count": 11,
     "metadata": {},
     "output_type": "execute_result"
    }
   ],
   "source": [
    "logp(None, -3.0, 2.0).eval() "
   ]
  },
  {
   "cell_type": "markdown",
   "id": "5112c4f5-2bdb-4f3e-a8ee-43216711e30d",
   "metadata": {},
   "source": [
    "```{note} Pointwise log probabilities\n",
    "Model comparison requires pointwise estimates of the log probabilities of a model (i.e. one estimate per observation), while the log-probability function used internally by the custom distribution works with the sum of the log-probabilities. We therefore need to compute this a second time without summing. We are doing this during inference using the [HGFPointwise class](pyhgf.distribution.HGFPointwise) class. This class works exactly like [HGFDistribution class](pyhgf.distribution.HGFDistribution) and should simply be treated as a deterministic variable for later use.\n",
    "```"
   ]
  },
  {
   "cell_type": "code",
   "execution_count": 12,
   "id": "a222b524-fa7f-4f4f-9ced-c7c70521b0f1",
   "metadata": {
    "execution": {
     "iopub.execute_input": "2024-09-27T12:27:44.358003Z",
     "iopub.status.busy": "2024-09-27T12:27:44.357709Z",
     "iopub.status.idle": "2024-09-27T12:27:44.362647Z",
     "shell.execute_reply": "2024-09-27T12:27:44.361763Z"
    }
   },
   "outputs": [],
   "source": [
    "hgf_logp_op_pointwise = HGFPointwise(\n",
    "    n_levels=2,\n",
    "    model_type=\"binary\",\n",
    "    input_data=u[np.newaxis, :].repeat(\n",
    "        N, axis=0\n",
    "    ),  # the inputs are the same for all agents - just duplicate the array\n",
    "    response_function=binary_softmax_inverse_temperature,\n",
    "    response_function_inputs=responses,\n",
    ")"
   ]
  },
  {
   "cell_type": "code",
   "execution_count": 13,
   "id": "6d94b1c0-16fa-4e39-a4dd-32125d13247d",
   "metadata": {
    "execution": {
     "iopub.execute_input": "2024-09-27T12:27:44.365161Z",
     "iopub.status.busy": "2024-09-27T12:27:44.364909Z",
     "iopub.status.idle": "2024-09-27T12:27:44.368719Z",
     "shell.execute_reply": "2024-09-27T12:27:44.367820Z"
    }
   },
   "outputs": [],
   "source": [
    "def logp_pointwise(tonic_volatility_2, inverse_temperature):\n",
    "    return hgf_logp_op_pointwise(\n",
    "        tonic_volatility_2=tonic_volatility_2,\n",
    "        response_function_parameters=inverse_temperature,\n",
    "    )"
   ]
  },
  {
   "cell_type": "code",
   "execution_count": 14,
   "id": "b7d84b8a-b398-4c10-b001-d3743a38de16",
   "metadata": {
    "execution": {
     "iopub.execute_input": "2024-09-27T12:27:44.371276Z",
     "iopub.status.busy": "2024-09-27T12:27:44.371049Z",
     "iopub.status.idle": "2024-09-27T12:27:44.556238Z",
     "shell.execute_reply": "2024-09-27T12:27:44.555115Z"
    }
   },
   "outputs": [],
   "source": [
    "with pm.Model() as two_levels_binary_hgf:\n",
    "\n",
    "    # tonic volatility\n",
    "    # ----------------\n",
    "    mu_volatility = pm.Normal(\"mu_volatility\", -5, 5)\n",
    "    sigma_volatility = pm.HalfNormal(\"sigma_volatility\", 10)\n",
    "    volatility = pm.Normal(\n",
    "        \"volatility\", mu=mu_volatility, sigma=sigma_volatility, shape=N\n",
    "    )\n",
    "\n",
    "    # inverse temperature\n",
    "    # -------------------\n",
    "    mu_temperature = pm.Normal(\"mu_temperature\", 0, 2)\n",
    "    sigma_temperature = pm.HalfNormal(\"sigma_temperature\", 2)\n",
    "    inverse_temperature = pm.LogNormal(\n",
    "        \"inverse_temperature\", mu=mu_temperature, sigma=sigma_temperature, shape=N\n",
    "    )\n",
    "\n",
    "    # The multi-HGF distribution\n",
    "    # --------------------------\n",
    "    log_likelihood = pm.CustomDist(\n",
    "        \"log_likelihood\",\n",
    "        volatility,\n",
    "        inverse_temperature,\n",
    "        logp=logp,\n",
    "        observed=responses,\n",
    "    )\n",
    "\n",
    "    # pointwise log-likelihoods\n",
    "    # -------------------------\n",
    "    pm.Deterministic(\n",
    "        \"pointwise_loglikelihood\",\n",
    "        logp_pointwise(volatility, inverse_temperature),\n",
    "    )"
   ]
  },
  {
   "cell_type": "markdown",
   "id": "7d0e01e8-b6d2-43e7-b4ac-0476439156cd",
   "metadata": {},
   "source": [
    "### Plot the computational graph\n",
    "The multilevel model includes hyperpriors over the mean and standard deviation of both the inverse temperature and the tonic volatility of the second level.\n",
    "\n",
    "```{note}\n",
    "We are sampling the inverse temperature in log space to ensure it will always be higher than 0, while being able to use normal hyper-priors at the group level.\n",
    "```"
   ]
  },
  {
   "cell_type": "code",
   "execution_count": 15,
   "id": "2627d47c-4aa6-4f8e-b073-f2d2a1f5be95",
   "metadata": {
    "execution": {
     "iopub.execute_input": "2024-09-27T12:27:44.559695Z",
     "iopub.status.busy": "2024-09-27T12:27:44.559417Z",
     "iopub.status.idle": "2024-09-27T12:27:44.957426Z",
     "shell.execute_reply": "2024-09-27T12:27:44.956615Z"
    }
   },
   "outputs": [
    {
     "data": {
      "image/svg+xml": [
       "<?xml version=\"1.0\" encoding=\"UTF-8\" standalone=\"no\"?>\n",
       "<!DOCTYPE svg PUBLIC \"-//W3C//DTD SVG 1.1//EN\"\n",
       " \"http://www.w3.org/Graphics/SVG/1.1/DTD/svg11.dtd\">\n",
       "<!-- Generated by graphviz version 9.0.0 (20231125.0833)\n",
       " -->\n",
       "<!-- Pages: 1 -->\n",
       "<svg width=\"808pt\" height=\"388pt\"\n",
       " viewBox=\"0.00 0.00 808.18 388.00\" xmlns=\"http://www.w3.org/2000/svg\" xmlns:xlink=\"http://www.w3.org/1999/xlink\">\n",
       "<g id=\"graph0\" class=\"graph\" transform=\"scale(1 1) rotate(0) translate(4 384)\">\n",
       "<polygon fill=\"white\" stroke=\"none\" points=\"-4,4 -4,-384 804.18,-384 804.18,4 -4,4\"/>\n",
       "<g id=\"clust1\" class=\"cluster\">\n",
       "<title>cluster10</title>\n",
       "<path fill=\"none\" stroke=\"black\" d=\"M223.54,-141.75C223.54,-141.75 579.54,-141.75 579.54,-141.75 585.54,-141.75 591.54,-147.75 591.54,-153.75 591.54,-153.75 591.54,-255.5 591.54,-255.5 591.54,-261.5 585.54,-267.5 579.54,-267.5 579.54,-267.5 223.54,-267.5 223.54,-267.5 217.54,-267.5 211.54,-261.5 211.54,-255.5 211.54,-255.5 211.54,-153.75 211.54,-153.75 211.54,-147.75 217.54,-141.75 223.54,-141.75\"/>\n",
       "<text text-anchor=\"middle\" x=\"574.54\" y=\"-149.7\" font-family=\"Times,serif\" font-size=\"14.00\">10</text>\n",
       "</g>\n",
       "<g id=\"clust2\" class=\"cluster\">\n",
       "<title>cluster10 x 320</title>\n",
       "<path fill=\"none\" stroke=\"black\" d=\"M117.54,-8C117.54,-8 598.54,-8 598.54,-8 604.54,-8 610.54,-14 610.54,-20 610.54,-20 610.54,-121.75 610.54,-121.75 610.54,-127.75 604.54,-133.75 598.54,-133.75 598.54,-133.75 117.54,-133.75 117.54,-133.75 111.54,-133.75 105.54,-127.75 105.54,-121.75 105.54,-121.75 105.54,-20 105.54,-20 105.54,-14 111.54,-8 117.54,-8\"/>\n",
       "<text text-anchor=\"middle\" x=\"571.42\" y=\"-15.95\" font-family=\"Times,serif\" font-size=\"14.00\">10 x 320</text>\n",
       "</g>\n",
       "<!-- mu_volatility -->\n",
       "<g id=\"node1\" class=\"node\">\n",
       "<title>mu_volatility</title>\n",
       "<ellipse fill=\"none\" stroke=\"black\" cx=\"76.54\" cy=\"-337.75\" rx=\"76.54\" ry=\"42.25\"/>\n",
       "<text text-anchor=\"middle\" x=\"76.54\" y=\"-350.32\" font-family=\"Times,serif\" font-size=\"14.00\">mu_volatility</text>\n",
       "<text text-anchor=\"middle\" x=\"76.54\" y=\"-333.07\" font-family=\"Times,serif\" font-size=\"14.00\">~</text>\n",
       "<text text-anchor=\"middle\" x=\"76.54\" y=\"-315.82\" font-family=\"Times,serif\" font-size=\"14.00\">Normal</text>\n",
       "</g>\n",
       "<!-- volatility -->\n",
       "<g id=\"node6\" class=\"node\">\n",
       "<title>volatility</title>\n",
       "<ellipse fill=\"none\" stroke=\"black\" cx=\"275.54\" cy=\"-217.25\" rx=\"55.86\" ry=\"42.25\"/>\n",
       "<text text-anchor=\"middle\" x=\"275.54\" y=\"-229.82\" font-family=\"Times,serif\" font-size=\"14.00\">volatility</text>\n",
       "<text text-anchor=\"middle\" x=\"275.54\" y=\"-212.57\" font-family=\"Times,serif\" font-size=\"14.00\">~</text>\n",
       "<text text-anchor=\"middle\" x=\"275.54\" y=\"-195.32\" font-family=\"Times,serif\" font-size=\"14.00\">Normal</text>\n",
       "</g>\n",
       "<!-- mu_volatility&#45;&gt;volatility -->\n",
       "<g id=\"edge1\" class=\"edge\">\n",
       "<title>mu_volatility&#45;&gt;volatility</title>\n",
       "<path fill=\"none\" stroke=\"black\" d=\"M128.05,-306.08C157.02,-288.83 193.13,-267.32 222.37,-249.91\"/>\n",
       "<polygon fill=\"black\" stroke=\"black\" points=\"223.9,-253.08 230.7,-244.95 220.32,-247.06 223.9,-253.08\"/>\n",
       "</g>\n",
       "<!-- sigma_temperature -->\n",
       "<g id=\"node2\" class=\"node\">\n",
       "<title>sigma_temperature</title>\n",
       "<ellipse fill=\"none\" stroke=\"black\" cx=\"480.54\" cy=\"-337.75\" rx=\"109.96\" ry=\"42.25\"/>\n",
       "<text text-anchor=\"middle\" x=\"480.54\" y=\"-350.32\" font-family=\"Times,serif\" font-size=\"14.00\">sigma_temperature</text>\n",
       "<text text-anchor=\"middle\" x=\"480.54\" y=\"-333.07\" font-family=\"Times,serif\" font-size=\"14.00\">~</text>\n",
       "<text text-anchor=\"middle\" x=\"480.54\" y=\"-315.82\" font-family=\"Times,serif\" font-size=\"14.00\">HalfNormal</text>\n",
       "</g>\n",
       "<!-- inverse_temperature -->\n",
       "<g id=\"node5\" class=\"node\">\n",
       "<title>inverse_temperature</title>\n",
       "<ellipse fill=\"none\" stroke=\"black\" cx=\"466.54\" cy=\"-217.25\" rx=\"116.85\" ry=\"42.25\"/>\n",
       "<text text-anchor=\"middle\" x=\"466.54\" y=\"-229.82\" font-family=\"Times,serif\" font-size=\"14.00\">inverse_temperature</text>\n",
       "<text text-anchor=\"middle\" x=\"466.54\" y=\"-212.57\" font-family=\"Times,serif\" font-size=\"14.00\">~</text>\n",
       "<text text-anchor=\"middle\" x=\"466.54\" y=\"-195.32\" font-family=\"Times,serif\" font-size=\"14.00\">LogNormal</text>\n",
       "</g>\n",
       "<!-- sigma_temperature&#45;&gt;inverse_temperature -->\n",
       "<g id=\"edge3\" class=\"edge\">\n",
       "<title>sigma_temperature&#45;&gt;inverse_temperature</title>\n",
       "<path fill=\"none\" stroke=\"black\" d=\"M475.65,-295.3C474.73,-287.5 473.75,-279.24 472.79,-271.15\"/>\n",
       "<polygon fill=\"black\" stroke=\"black\" points=\"476.29,-270.89 471.64,-261.37 469.34,-271.72 476.29,-270.89\"/>\n",
       "</g>\n",
       "<!-- sigma_volatility -->\n",
       "<g id=\"node3\" class=\"node\">\n",
       "<title>sigma_volatility</title>\n",
       "<ellipse fill=\"none\" stroke=\"black\" cx=\"261.54\" cy=\"-337.75\" rx=\"90.86\" ry=\"42.25\"/>\n",
       "<text text-anchor=\"middle\" x=\"261.54\" y=\"-350.32\" font-family=\"Times,serif\" font-size=\"14.00\">sigma_volatility</text>\n",
       "<text text-anchor=\"middle\" x=\"261.54\" y=\"-333.07\" font-family=\"Times,serif\" font-size=\"14.00\">~</text>\n",
       "<text text-anchor=\"middle\" x=\"261.54\" y=\"-315.82\" font-family=\"Times,serif\" font-size=\"14.00\">HalfNormal</text>\n",
       "</g>\n",
       "<!-- sigma_volatility&#45;&gt;volatility -->\n",
       "<g id=\"edge2\" class=\"edge\">\n",
       "<title>sigma_volatility&#45;&gt;volatility</title>\n",
       "<path fill=\"none\" stroke=\"black\" d=\"M266.44,-295.3C267.37,-287.41 268.36,-279.05 269.33,-270.86\"/>\n",
       "<polygon fill=\"black\" stroke=\"black\" points=\"272.8,-271.32 270.5,-260.97 265.85,-270.49 272.8,-271.32\"/>\n",
       "</g>\n",
       "<!-- mu_temperature -->\n",
       "<g id=\"node4\" class=\"node\">\n",
       "<title>mu_temperature</title>\n",
       "<ellipse fill=\"none\" stroke=\"black\" cx=\"704.54\" cy=\"-337.75\" rx=\"95.64\" ry=\"42.25\"/>\n",
       "<text text-anchor=\"middle\" x=\"704.54\" y=\"-350.32\" font-family=\"Times,serif\" font-size=\"14.00\">mu_temperature</text>\n",
       "<text text-anchor=\"middle\" x=\"704.54\" y=\"-333.07\" font-family=\"Times,serif\" font-size=\"14.00\">~</text>\n",
       "<text text-anchor=\"middle\" x=\"704.54\" y=\"-315.82\" font-family=\"Times,serif\" font-size=\"14.00\">Normal</text>\n",
       "</g>\n",
       "<!-- mu_temperature&#45;&gt;inverse_temperature -->\n",
       "<g id=\"edge4\" class=\"edge\">\n",
       "<title>mu_temperature&#45;&gt;inverse_temperature</title>\n",
       "<path fill=\"none\" stroke=\"black\" d=\"M641.7,-305.46C611.88,-290.61 575.95,-272.72 544.41,-257.02\"/>\n",
       "<polygon fill=\"black\" stroke=\"black\" points=\"546.2,-254 535.69,-252.68 543.08,-260.27 546.2,-254\"/>\n",
       "</g>\n",
       "<!-- pointwise_loglikelihood -->\n",
       "<g id=\"node7\" class=\"node\">\n",
       "<title>pointwise_loglikelihood</title>\n",
       "<polygon fill=\"none\" stroke=\"black\" points=\"602.79,-113.37 420.29,-113.37 420.29,-53.62 602.79,-53.62 602.79,-113.37\"/>\n",
       "<text text-anchor=\"middle\" x=\"511.54\" y=\"-96.07\" font-family=\"Times,serif\" font-size=\"14.00\">pointwise_loglikelihood</text>\n",
       "<text text-anchor=\"middle\" x=\"511.54\" y=\"-78.82\" font-family=\"Times,serif\" font-size=\"14.00\">~</text>\n",
       "<text text-anchor=\"middle\" x=\"511.54\" y=\"-61.57\" font-family=\"Times,serif\" font-size=\"14.00\">Deterministic</text>\n",
       "</g>\n",
       "<!-- inverse_temperature&#45;&gt;pointwise_loglikelihood -->\n",
       "<g id=\"edge7\" class=\"edge\">\n",
       "<title>inverse_temperature&#45;&gt;pointwise_loglikelihood</title>\n",
       "<path fill=\"none\" stroke=\"black\" d=\"M480.66,-174.92C486.19,-158.74 492.51,-140.24 497.98,-124.21\"/>\n",
       "<polygon fill=\"black\" stroke=\"black\" points=\"501.21,-125.6 501.13,-115 494.58,-123.33 501.21,-125.6\"/>\n",
       "</g>\n",
       "<!-- log_likelihood -->\n",
       "<g id=\"node8\" class=\"node\">\n",
       "<title>log_likelihood</title>\n",
       "<ellipse fill=\"lightgrey\" stroke=\"black\" cx=\"257.54\" cy=\"-83.5\" rx=\"144.43\" ry=\"42.25\"/>\n",
       "<text text-anchor=\"middle\" x=\"257.54\" y=\"-96.07\" font-family=\"Times,serif\" font-size=\"14.00\">log_likelihood</text>\n",
       "<text text-anchor=\"middle\" x=\"257.54\" y=\"-78.82\" font-family=\"Times,serif\" font-size=\"14.00\">~</text>\n",
       "<text text-anchor=\"middle\" x=\"257.54\" y=\"-61.57\" font-family=\"Times,serif\" font-size=\"14.00\">CustomDist_log_likelihood</text>\n",
       "</g>\n",
       "<!-- inverse_temperature&#45;&gt;log_likelihood -->\n",
       "<g id=\"edge5\" class=\"edge\">\n",
       "<title>inverse_temperature&#45;&gt;log_likelihood</title>\n",
       "<path fill=\"none\" stroke=\"black\" d=\"M409.16,-180.07C383.76,-164.06 353.66,-145.09 327,-128.29\"/>\n",
       "<polygon fill=\"black\" stroke=\"black\" points=\"328.96,-125.38 318.63,-123.01 325.23,-131.3 328.96,-125.38\"/>\n",
       "</g>\n",
       "<!-- volatility&#45;&gt;pointwise_loglikelihood -->\n",
       "<g id=\"edge8\" class=\"edge\">\n",
       "<title>volatility&#45;&gt;pointwise_loglikelihood</title>\n",
       "<path fill=\"none\" stroke=\"black\" d=\"M299.45,-178.59C310.26,-164.7 324.28,-150.29 340.54,-141.75 368.27,-127.19 380.48,-142.52 410.54,-133.75 423.57,-129.95 436.97,-124.58 449.58,-118.78\"/>\n",
       "<polygon fill=\"black\" stroke=\"black\" points=\"451.07,-121.94 458.59,-114.48 448.06,-115.62 451.07,-121.94\"/>\n",
       "</g>\n",
       "<!-- volatility&#45;&gt;log_likelihood -->\n",
       "<g id=\"edge6\" class=\"edge\">\n",
       "<title>volatility&#45;&gt;log_likelihood</title>\n",
       "<path fill=\"none\" stroke=\"black\" d=\"M269.9,-174.92C268.27,-163.02 266.48,-149.87 264.77,-137.37\"/>\n",
       "<polygon fill=\"black\" stroke=\"black\" points=\"268.26,-137.06 263.44,-127.63 261.32,-138.01 268.26,-137.06\"/>\n",
       "</g>\n",
       "</g>\n",
       "</svg>\n"
      ],
      "text/plain": [
       "<graphviz.graphs.Digraph at 0x7f34883ca030>"
      ]
     },
     "execution_count": 15,
     "metadata": {},
     "output_type": "execute_result"
    }
   ],
   "source": [
    "pm.model_to_graphviz(two_levels_binary_hgf)"
   ]
  },
  {
   "cell_type": "markdown",
   "id": "1ee804ce-aae3-4228-aa16-aaa07b337c5c",
   "metadata": {},
   "source": [
    "### Sampling"
   ]
  },
  {
   "cell_type": "code",
   "execution_count": 16,
   "id": "3e98e263-093d-45cd-afea-e3cd316a2591",
   "metadata": {
    "execution": {
     "iopub.execute_input": "2024-09-27T12:27:44.960679Z",
     "iopub.status.busy": "2024-09-27T12:27:44.960294Z",
     "iopub.status.idle": "2024-09-27T12:28:26.163871Z",
     "shell.execute_reply": "2024-09-27T12:28:26.162271Z"
    },
    "scrolled": true
   },
   "outputs": [
    {
     "name": "stderr",
     "output_type": "stream",
     "text": [
      "Auto-assigning NUTS sampler...\n"
     ]
    },
    {
     "name": "stderr",
     "output_type": "stream",
     "text": [
      "Initializing NUTS using jitter+adapt_diag...\n"
     ]
    },
    {
     "name": "stderr",
     "output_type": "stream",
     "text": [
      "Sequential sampling (2 chains in 1 job)\n"
     ]
    },
    {
     "name": "stderr",
     "output_type": "stream",
     "text": [
      "NUTS: [mu_volatility, sigma_volatility, volatility, mu_temperature, sigma_temperature, inverse_temperature]\n"
     ]
    },
    {
     "data": {
      "application/vnd.jupyter.widget-view+json": {
       "model_id": "3adbfcb6d2b24886a300da8bbd358bf7",
       "version_major": 2,
       "version_minor": 0
      },
      "text/plain": [
       "Output()"
      ]
     },
     "metadata": {},
     "output_type": "display_data"
    },
    {
     "data": {
      "text/html": [
       "<pre style=\"white-space:pre;overflow-x:auto;line-height:normal;font-family:Menlo,'DejaVu Sans Mono',consolas,'Courier New',monospace\"></pre>\n"
      ],
      "text/plain": []
     },
     "metadata": {},
     "output_type": "display_data"
    },
    {
     "data": {
      "text/html": [
       "<pre style=\"white-space:pre;overflow-x:auto;line-height:normal;font-family:Menlo,'DejaVu Sans Mono',consolas,'Courier New',monospace\">\n",
       "</pre>\n"
      ],
      "text/plain": [
       "\n"
      ]
     },
     "metadata": {},
     "output_type": "display_data"
    },
    {
     "data": {
      "application/vnd.jupyter.widget-view+json": {
       "model_id": "684789f16b9d49feacfcf5a0378046bc",
       "version_major": 2,
       "version_minor": 0
      },
      "text/plain": [
       "Output()"
      ]
     },
     "metadata": {},
     "output_type": "display_data"
    },
    {
     "data": {
      "text/html": [
       "<pre style=\"white-space:pre;overflow-x:auto;line-height:normal;font-family:Menlo,'DejaVu Sans Mono',consolas,'Courier New',monospace\"></pre>\n"
      ],
      "text/plain": []
     },
     "metadata": {},
     "output_type": "display_data"
    },
    {
     "data": {
      "text/html": [
       "<pre style=\"white-space:pre;overflow-x:auto;line-height:normal;font-family:Menlo,'DejaVu Sans Mono',consolas,'Courier New',monospace\">\n",
       "</pre>\n"
      ],
      "text/plain": [
       "\n"
      ]
     },
     "metadata": {},
     "output_type": "display_data"
    },
    {
     "name": "stderr",
     "output_type": "stream",
     "text": [
      "Sampling 2 chains for 1_000 tune and 1_000 draw iterations (2_000 + 2_000 draws total) took 37 seconds.\n"
     ]
    },
    {
     "name": "stderr",
     "output_type": "stream",
     "text": [
      "There were 2 divergences after tuning. Increase `target_accept` or reparameterize.\n"
     ]
    },
    {
     "name": "stderr",
     "output_type": "stream",
     "text": [
      "We recommend running at least 4 chains for robust computation of convergence diagnostics\n"
     ]
    }
   ],
   "source": [
    "with two_levels_binary_hgf:\n",
    "    two_level_hgf_idata = pm.sample(chains=2, cores=1)"
   ]
  },
  {
   "cell_type": "code",
   "execution_count": 17,
   "id": "df9a3b00-c476-4700-a1ed-a200344c2b03",
   "metadata": {
    "execution": {
     "iopub.execute_input": "2024-09-27T12:28:27.205855Z",
     "iopub.status.busy": "2024-09-27T12:28:27.205594Z",
     "iopub.status.idle": "2024-09-27T12:28:27.210940Z",
     "shell.execute_reply": "2024-09-27T12:28:27.210141Z"
    }
   },
   "outputs": [],
   "source": [
    "# save pointwise estimate as log_likelihood for later use in model comparison\n",
    "two_level_hgf_idata.add_groups(\n",
    "    log_likelihood=two_level_hgf_idata.posterior[\"pointwise_loglikelihood\"]\n",
    ")"
   ]
  },
  {
   "cell_type": "markdown",
   "id": "c7305635-b420-4d54-8015-72c0f3a03748",
   "metadata": {},
   "source": [
    "### Visualization of the posterior distributions"
   ]
  },
  {
   "cell_type": "code",
   "execution_count": 18,
   "id": "506039b8-80a4-40d5-97e5-31f425535b5e",
   "metadata": {
    "execution": {
     "iopub.execute_input": "2024-09-27T12:28:27.213954Z",
     "iopub.status.busy": "2024-09-27T12:28:27.213745Z",
     "iopub.status.idle": "2024-09-27T12:28:27.606067Z",
     "shell.execute_reply": "2024-09-27T12:28:27.604675Z"
    }
   },
   "outputs": [
    {
     "data": {
      "image/png": "[encoded data removed]",
      "text/plain": [
       "<Figure size 1472x552 with 2 Axes>"
      ]
     },
     "metadata": {},
     "output_type": "display_data"
    }
   ],
   "source": [
    "az.plot_posterior(\n",
    "    two_level_hgf_idata,\n",
    "    var_names=[\"mu_temperature\", \"mu_volatility\"],\n",
    "    ref_val=[0.5, -4.0],\n",
    ");"
   ]
  },
  {
   "cell_type": "markdown",
   "id": "ef2c668a-2624-470e-9f16-9ecef703769d",
   "metadata": {},
   "source": [
    "The reference values on both posterior distributions indicate the mean of the distribution used for simulation."
   ]
  },
  {
   "cell_type": "markdown",
   "id": "3ebdbf9a-b76b-4007-952e-0416aff5fc92",
   "metadata": {},
   "source": [
    "## Model comparison"
   ]
  },
  {
   "cell_type": "markdown",
   "id": "4df4b830-431d-4946-abc7-9ace4b23a3cd",
   "metadata": {},
   "source": [
    "The posterior samples we get from [PyMC](https://www.pymc.io/welcome.html) are crucial to inform inference over parameter values, but they can also be helpful to compare different models that were fitted on the same observations. Here, we use leave-one-out cross-validation {cite:p}`Vehtari:2015`, which is the default method recommended by [Arviz](https://python.arviz.org/en/stable/). This function requires that the posterior samples also include pointwise estimates, it is therefore crucial to save this information during sampling, or alternativeæly to compute this manually from the samples a posteriori. We compute the expected log pointwise predictive density (ELPD) for one model, which indicates the quality of model fit (the higher the better). This quantity can be used to compare models side by side, provided that they are fitted to the same observed data."
   ]
  },
  {
   "cell_type": "code",
   "execution_count": 19,
   "id": "36310588-728c-49c2-8bc9-09383d018ff2",
   "metadata": {
    "execution": {
     "iopub.execute_input": "2024-09-27T12:28:27.611573Z",
     "iopub.status.busy": "2024-09-27T12:28:27.610370Z",
     "iopub.status.idle": "2024-09-27T12:28:29.790239Z",
     "shell.execute_reply": "2024-09-27T12:28:29.789494Z"
    }
   },
   "outputs": [],
   "source": [
    "%%capture --no-display\n",
    "loo_hgf = az.loo(two_level_hgf_idata)"
   ]
  },
  {
   "cell_type": "code",
   "execution_count": 20,
   "id": "fa65cc15-ee38-45b0-9629-9c7271ea5f62",
   "metadata": {
    "execution": {
     "iopub.execute_input": "2024-09-27T12:28:29.793202Z",
     "iopub.status.busy": "2024-09-27T12:28:29.792568Z",
     "iopub.status.idle": "2024-09-27T12:28:29.808703Z",
     "shell.execute_reply": "2024-09-27T12:28:29.807877Z"
    }
   },
   "outputs": [
    {
     "data": {
      "text/plain": [
       "Computed from 2000 posterior samples and 3200 observations log-likelihood matrix.\n",
       "\n",
       "         Estimate       SE\n",
       "elpd_loo -1684.57    25.65\n",
       "p_loo       18.30        -\n",
       "\n",
       "There has been a warning during the calculation. Please check the results.\n",
       "------\n",
       "\n",
       "Pareto k diagnostic values:\n",
       "                         Count   Pct.\n",
       "(-Inf, 0.70]   (good)     3185   99.5%\n",
       "   (0.70, 1]   (bad)         3    0.1%\n",
       "   (1, Inf)   (very bad)   12    0.4%"
      ]
     },
     "execution_count": 20,
     "metadata": {},
     "output_type": "execute_result"
    }
   ],
   "source": [
    "loo_hgf"
   ]
  },
  {
   "cell_type": "markdown",
   "id": "ffe250ba-d679-4c9c-ab48-d9d4f8fd3eaa",
   "metadata": {},
   "source": [
    "# System configuration"
   ]
  },
  {
   "cell_type": "code",
   "execution_count": 21,
   "id": "bb873616-fc3d-4e97-aa8c-1498dcb00952",
   "metadata": {
    "execution": {
     "iopub.execute_input": "2024-09-27T12:28:29.811372Z",
     "iopub.status.busy": "2024-09-27T12:28:29.811154Z",
     "iopub.status.idle": "2024-09-27T12:28:29.855349Z",
     "shell.execute_reply": "2024-09-27T12:28:29.854624Z"
    }
   },
   "outputs": [
    {
     "name": "stdout",
     "output_type": "stream",
     "text": [
      "Last updated: Fri Sep 27 2024\n",
      "\n",
      "Python implementation: CPython\n",
      "Python version       : 3.12.3\n",
      "IPython version      : 8.23.0\n",
      "\n",
      "pyhgf : 0.1.4\n",
      "jax   : 0.4.31\n",
      "jaxlib: 0.4.31\n",
      "\n",
      "seaborn   : 0.13.2\n",
      "pymc      : 5.16.2\n",
      "pytensor  : 2.25.2\n",
      "sys       : 3.12.3 | packaged by conda-forge | (main, Apr 15 2024, 18:38:13) [GCC 12.3.0]\n",
      "numpy     : 1.26.0\n",
      "matplotlib: 3.8.4\n",
      "IPython   : 8.23.0\n",
      "arviz     : 0.19.0\n",
      "\n",
      "Watermark: 2.4.3\n",
      "\n"
     ]
    }
   ],
   "source": [
    "%load_ext watermark\n",
    "%watermark -n -u -v -iv -w -p pyhgf,jax,jaxlib"
   ]
  },
  {
   "cell_type": "code",
   "execution_count": null,
   "id": "2b9faf02-8164-48b1-8080-ee287bb93ebe",
   "metadata": {
    "editable": true,
    "slideshow": {
     "slide_type": ""
    },
    "tags": []
   },
   "outputs": [],
   "source": []
  }
 ],
 "metadata": {
  "interpreter": {
   "hash": "40d3a090f54c6569ab1632332b64b2c03c39dcf918b08424e98f38b5ae0af88f"
  },
  "kernelspec": {
   "display_name": "Python 3 (ipykernel)",
   "language": "python",
   "name": "python3"
  },
  "language_info": {
   "codemirror_mode": {
    "name": "ipython",
    "version": 3
   },
   "file_extension": ".py",
   "mimetype": "text/x-python",
   "name": "python",
   "nbconvert_exporter": "python",
   "pygments_lexer": "ipython3",
   "version": "3.12.3"
  },
  "widgets": {
   "application/vnd.jupyter.widget-state+json": {
    "state": {
     "3adbfcb6d2b24886a300da8bbd358bf7": {
      "model_module": "@jupyter-widgets/output",
      "model_module_version": "1.0.0",
      "model_name": "OutputModel",
      "state": {
       "_dom_classes": [],
       "_model_module": "@jupyter-widgets/output",
       "_model_module_version": "1.0.0",
       "_model_name": "OutputModel",
       "_view_count": null,
       "_view_module": "@jupyter-widgets/output",
       "_view_module_version": "1.0.0",
       "_view_name": "OutputView",
       "layout": "IPY_MODEL_3ae3f69de2374f2c9a7599134d352802",
       "msg_id": "",
       "outputs": [
        {
         "data": {
          "text/html": "<pre style=\"white-space:pre;overflow-x:auto;line-height:normal;font-family:Menlo,'DejaVu Sans Mono',consolas,'Courier New',monospace\">Sampling chain 0, 0 divergences <span style=\"color: #008000; text-decoration-color: #008000\">━━━━━━━━━━━━━━━━━━━━━━━━━━━━━━━━━━━━━━━━</span> <span style=\"color: #800080; text-decoration-color: #800080\">100%</span> <span style=\"color: #008080; text-decoration-color: #008080\">0:00:00</span> / <span style=\"color: #808000; text-decoration-color: #808000\">0:00:18</span>\n</pre>\n",
          "text/plain": "Sampling chain 0, 0 divergences \u001b[32m━━━━━━━━━━━━━━━━━━━━━━━━━━━━━━━━━━━━━━━━\u001b[0m \u001b[35m100%\u001b[0m \u001b[36m0:00:00\u001b[0m / \u001b[33m0:00:18\u001b[0m\n"
         },
         "metadata": {},
         "output_type": "display_data"
        }
       ],
       "tabbable": null,
       "tooltip": null
      }
     },
     "3ae3f69de2374f2c9a7599134d352802": {
      "model_module": "@jupyter-widgets/base",
      "model_module_version": "2.0.0",
      "model_name": "LayoutModel",
      "state": {
       "_model_module": "@jupyter-widgets/base",
       "_model_module_version": "2.0.0",
       "_model_name": "LayoutModel",
       "_view_count": null,
       "_view_module": "@jupyter-widgets/base",
       "_view_module_version": "2.0.0",
       "_view_name": "LayoutView",
       "align_content": null,
       "align_items": null,
       "align_self": null,
       "border_bottom": null,
       "border_left": null,
       "border_right": null,
       "border_top": null,
       "bottom": null,
       "display": null,
       "flex": null,
       "flex_flow": null,
       "grid_area": null,
       "grid_auto_columns": null,
       "grid_auto_flow": null,
       "grid_auto_rows": null,
       "grid_column": null,
       "grid_gap": null,
       "grid_row": null,
       "grid_template_areas": null,
       "grid_template_columns": null,
       "grid_template_rows": null,
       "height": null,
       "justify_content": null,
       "justify_items": null,
       "left": null,
       "margin": null,
       "max_height": null,
       "max_width": null,
       "min_height": null,
       "min_width": null,
       "object_fit": null,
       "object_position": null,
       "order": null,
       "overflow": null,
       "padding": null,
       "right": null,
       "top": null,
       "visibility": null,
       "width": null
      }
     },
     "684789f16b9d49feacfcf5a0378046bc": {
      "model_module": "@jupyter-widgets/output",
      "model_module_version": "1.0.0",
      "model_name": "OutputModel",
      "state": {
       "_dom_classes": [],
       "_model_module": "@jupyter-widgets/output",
       "_model_module_version": "1.0.0",
       "_model_name": "OutputModel",
       "_view_count": null,
       "_view_module": "@jupyter-widgets/output",
       "_view_module_version": "1.0.0",
       "_view_name": "OutputView",
       "layout": "IPY_MODEL_6f70814ea51440d8a2cb51eea0e807f7",
       "msg_id": "",
       "outputs": [
        {
         "data": {
          "text/html": "<pre style=\"white-space:pre;overflow-x:auto;line-height:normal;font-family:Menlo,'DejaVu Sans Mono',consolas,'Courier New',monospace\">Sampling chain 1, 2 divergences <span style=\"color: #008000; text-decoration-color: #008000\">━━━━━━━━━━━━━━━━━━━━━━━━━━━━━━━━━━━━━━━━</span> <span style=\"color: #800080; text-decoration-color: #800080\">100%</span> <span style=\"color: #008080; text-decoration-color: #008080\">0:00:00</span> / <span style=\"color: #808000; text-decoration-color: #808000\">0:00:17</span>\n</pre>\n",
          "text/plain": "Sampling chain 1, 2 divergences \u001b[32m━━━━━━━━━━━━━━━━━━━━━━━━━━━━━━━━━━━━━━━━\u001b[0m \u001b[35m100%\u001b[0m \u001b[36m0:00:00\u001b[0m / \u001b[33m0:00:17\u001b[0m\n"
         },
         "metadata": {},
         "output_type": "display_data"
        }
       ],
       "tabbable": null,
       "tooltip": null
      }
     },
     "6f70814ea51440d8a2cb51eea0e807f7": {
      "model_module": "@jupyter-widgets/base",
      "model_module_version": "2.0.0",
      "model_name": "LayoutModel",
      "state": {
       "_model_module": "@jupyter-widgets/base",
       "_model_module_version": "2.0.0",
       "_model_name": "LayoutModel",
       "_view_count": null,
       "_view_module": "@jupyter-widgets/base",
       "_view_module_version": "2.0.0",
       "_view_name": "LayoutView",
       "align_content": null,
       "align_items": null,
       "align_self": null,
       "border_bottom": null,
       "border_left": null,
       "border_right": null,
       "border_top": null,
       "bottom": null,
       "display": null,
       "flex": null,
       "flex_flow": null,
       "grid_area": null,
       "grid_auto_columns": null,
       "grid_auto_flow": null,
       "grid_auto_rows": null,
       "grid_column": null,
       "grid_gap": null,
       "grid_row": null,
       "grid_template_areas": null,
       "grid_template_columns": null,
       "grid_template_rows": null,
       "height": null,
       "justify_content": null,
       "justify_items": null,
       "left": null,
       "margin": null,
       "max_height": null,
       "max_width": null,
       "min_height": null,
       "min_width": null,
       "object_fit": null,
       "object_position": null,
       "order": null,
       "overflow": null,
       "padding": null,
       "right": null,
       "top": null,
       "visibility": null,
       "width": null
      }
     }
    },
    "version_major": 2,
    "version_minor": 0
   }
  }
 },
 "nbformat": 4,
 "nbformat_minor": 5
}
