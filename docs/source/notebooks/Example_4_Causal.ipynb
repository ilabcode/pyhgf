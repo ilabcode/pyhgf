{
 "cells": [
  {
   "cell_type": "markdown",
   "id": "442ef7e2-9591-40be-aae1-0160131b4bfb",
   "metadata": {
    "editable": true,
    "slideshow": {
     "slide_type": ""
    },
    "tags": []
   },
   "source": [
    "(example_4)=\n",
    "# Example 4: Learning causal coupling\n",
    "\n",
    "Author contribution: Lina Walkowiak"
   ]
  },
  {
   "cell_type": "markdown",
   "id": "a433e73e-e20e-459e-9744-6193ae31898c",
   "metadata": {
    "editable": true,
    "slideshow": {
     "slide_type": ""
    },
    "tags": []
   },
   "source": [
    "[![Open In Colab](https://colab.research.google.com/assets/colab-badge.svg)](https://colab.research.google.com/github/ilabcode/pyhgf/blob/master/docs/source/notebooks/Example_3_Multi_armed_bandit.ipynb)"
   ]
  },
  {
   "cell_type": "code",
   "execution_count": 59,
   "id": "bc2f0d67-9f24-4e44-ad7b-c04c22cff638",
   "metadata": {
    "editable": true,
    "execution": {
     "iopub.execute_input": "2024-09-27T12:31:08.886541Z",
     "iopub.status.busy": "2024-09-27T12:31:08.886176Z",
     "iopub.status.idle": "2024-09-27T12:31:08.901467Z",
     "shell.execute_reply": "2024-09-27T12:31:08.899918Z"
    },
    "slideshow": {
     "slide_type": ""
    },
    "tags": [
     "hide-cell"
    ]
   },
   "outputs": [],
   "source": [
    "import sys\n",
    "from IPython.utils import io\n",
    "if 'google.colab' in sys.modules:\n",
    "\n",
    "  with io.capture_output() as captured:\n",
    "      ! pip install pyhgf watermark\n",
    "\n"
   ]
  },
  {
   "cell_type": "code",
   "execution_count": 60,
   "id": "edfee021-57f2-434a-9841-990ddeb4ee00",
   "metadata": {
    "editable": true,
    "execution": {
     "iopub.execute_input": "2024-09-27T12:31:08.905130Z",
     "iopub.status.busy": "2024-09-27T12:31:08.904921Z",
     "iopub.status.idle": "2024-09-27T12:31:13.682908Z",
     "shell.execute_reply": "2024-09-27T12:31:13.682158Z"
    },
    "slideshow": {
     "slide_type": ""
    },
    "tags": []
   },
   "outputs": [
    {
     "name": "stdout",
     "output_type": "stream",
     "text": [
      "The autoreload extension is already loaded. To reload it, use:\n",
      "  %reload_ext autoreload\n"
     ]
    }
   ],
   "source": [
    "%load_ext autoreload\n",
    "%autoreload 2\n",
    "\n",
    "import arviz as az\n",
    "import jax.numpy as jnp\n",
    "import matplotlib.pyplot as plt\n",
    "import numpy as np\n",
    "import pymc as pm\n",
    "import pytensor.tensor as pt\n",
    "import seaborn as sns\n",
    "import pandas as pd\n",
    "from jax import jit, vjp\n",
    "from jax.tree_util import Partial\n",
    "from pyhgf.math import binary_surprise\n",
    "from pyhgf.model.network import Network\n",
    "from pyhgf.utils import beliefs_propagation\n",
    "from pyhgf.typing import AdjacencyLists\n",
    "from pytensor.graph import Apply, Op\n",
    "from pyhgf.updates.edges import calculate_mutual_information_sampled\n",
    "\n",
    "\n",
    "np.random.seed(123)\n",
    "plt.rcParams[\"figure.constrained_layout.use\"] = True"
   ]
  },
  {
   "cell_type": "markdown",
   "id": "f1f17f87",
   "metadata": {},
   "source": [
    "## Introduction\n",
    "In this notebook, we implement a model that incorporates causal coupling. \n",
    "First, the theory of the causal couplign mechanisms will be outlined before then implementing the functions on simulated data. We simulate two time series, where one has a causal influence on the other, differeing in its strength. The model then takes two time series as input, which are provided to the two continuous state nodes that are causally coupled. The strength of this coupling is dynamically updated based on the provided observations. \n"
   ]
  },
  {
   "cell_type": "markdown",
   "id": "8ef22396",
   "metadata": {},
   "source": [
    "## Theory"
   ]
  },
  {
   "cell_type": "markdown",
   "id": "dff42cef",
   "metadata": {},
   "source": [
    "## Sigmoid function for updating the coupling strength\n",
    "### Sequence of steps\n",
    "1. The parent's node expected mean will be used by the child to inform its own prediction, weighted by the causal coupling strength (and the parent's precision).\n",
    "2. The child makes an observation and compares it to its expectation. Specifically, it evaluates wherther the causal parent's own prediction reliably informed the own prediction.\n",
    "3. The coupling strength is updated based on the prediction error and at the child node. If the parent's prediction successfully informed the child's prediction, the causal coupling strength is increased (i.e, moving it closer to zero). If it didn't, the strength is weakened. \n",
    "\n",
    "\n",
    "#### Mathematical equation: \n",
    "\n",
    "\\begin{equation}\n",
    "\\gamma_{ci,a}^{(k+1)}​=\\gamma_{ci,a}^{(k)} + \\eta  \\cdot \\frac{1}{1+exp(−\\delta_a^{(C)}​)}​\n",
    "\\end{equation}\n",
    "where: \n",
    "- $\\gamma_{ci,a}$ is the causal coupling weight\n",
    "- $\\eta$ is the learning rate\n",
    "- $\\delta_a^{(C)}$ is the prediction error due to the parent's prediction influence "
   ]
  },
  {
   "cell_type": "markdown",
   "id": "04ad51b0",
   "metadata": {},
   "source": [
    "## Information theoretic approaches"
   ]
  },
  {
   "cell_type": "markdown",
   "id": "c9368869",
   "metadata": {},
   "source": [
    "## Simulating a data set\n"
   ]
  },
  {
   "cell_type": "markdown",
   "id": "104f48b5",
   "metadata": {},
   "source": [
    "We model two binary time series, Series A and Series B, where the causal influence of A on B varies over time. We establish different levels of causal strenggth: \n",
    "high, medium, and low. These affect the likelihood of B given the state of A. \n"
   ]
  },
  {
   "cell_type": "code",
   "execution_count": 61,
   "id": "a692bb73",
   "metadata": {},
   "outputs": [],
   "source": [
    "# Define contingencies\n",
    "high, medium, low = 0.8, 0.5, 0.2\n",
    "\n",
    "# Stable contingencies: Each level (low, medium, high) repeats for a block of 40 time steps\n",
    "stable_contingencies = np.array([low, medium, high]).repeat(50)\n",
    "\n",
    "# Alternating contingencies: Each level repeats for 10 time steps, cycling 6 times for each level\n",
    "alternating_contingencies = np.tile(np.array([low, medium, high]).repeat(10), 5)\n",
    "\n",
    "# Combine both stable and alternating contingencies\n",
    "causal_influence_sequence = np.concatenate([stable_contingencies, alternating_contingencies])\n",
    "\n",
    "# Generate binary series independently\n",
    "n_samples = len(causal_influence_sequence)\n",
    "series_A = np.random.choice([0, 1], size=n_samples) \n",
    "\n",
    "# generate binary series with influence from the series A dependent on the strength of the current block\n",
    "series_B = np.zeros(n_samples)\n",
    "for i in range(n_samples):\n",
    "    causal_effect = causal_influence_sequence[i]\n",
    "    # Select causal effect and inverse of causal effect based on whether A is 0 or 1 \n",
    "    prob_B_given_A = causal_effect if series_A[i] == 1 else (1 - causal_effect)\n",
    "    series_B[i] = np.random.choice([0, 1], p=[1 - prob_B_given_A, prob_B_given_A])"
   ]
  },
  {
   "cell_type": "code",
   "execution_count": 62,
   "id": "4c632b3e",
   "metadata": {},
   "outputs": [
    {
     "name": "stderr",
     "output_type": "stream",
     "text": [
      "/var/folders/sr/t35nvgpn1m9d3bl1dbwrj4300000gn/T/ipykernel_76790/1309979409.py:21: UserWarning: The figure layout has changed to tight\n",
      "  plt.tight_layout()\n"
     ]
    },
    {
     "data": {
      "image/png": "[encoded data removed]",
      "text/plain": [
       "<Figure size 1400x800 with 3 Axes>"
      ]
     },
     "metadata": {},
     "output_type": "display_data"
    }
   ],
   "source": [
    "# Plot the time series and contingency blocks \n",
    "plt.figure(figsize=(14, 8))\n",
    "\n",
    "plt.subplot(3, 1, 1)\n",
    "plt.plot(causal_influence_sequence, color='purple', label='Causal Influence Level')\n",
    "plt.title(\"Causal Influence Sequence\")\n",
    "plt.ylabel(\"Influence Strength\")\n",
    "plt.legend()\n",
    "\n",
    "plt.subplot(3, 1, 2)\n",
    "plt.step(range(n_samples), series_A, color='blue', label='Series A')\n",
    "plt.ylabel(\"Series A\")\n",
    "plt.legend()\n",
    "\n",
    "plt.subplot(3, 1, 3)\n",
    "plt.step(range(n_samples), series_B, color='green', label='Series B')\n",
    "plt.xlabel(\"Time\")\n",
    "plt.ylabel(\"Series B\")\n",
    "plt.legend()\n",
    "\n",
    "plt.tight_layout()\n",
    "plt.show()"
   ]
  },
  {
   "cell_type": "markdown",
   "id": "569b6611",
   "metadata": {},
   "source": [
    "#### Testing the new functions: Mutual information of child node"
   ]
  },
  {
   "cell_type": "code",
   "execution_count": 65,
   "id": "d2f20d5b",
   "metadata": {},
   "outputs": [
    {
     "name": "stdout",
     "output_type": "stream",
     "text": [
      "{'parent_child': {(0, 1): 0.028640141365105627}, 'parent_parent': {}, 'self': {1: 1.4189385332046727}}\n",
      "{'parent_child': {(1, 2): 0.06112176765681369}, 'parent_parent': {}, 'self': {2: 1.5305103088617775}}\n"
     ]
    }
   ],
   "source": [
    "parameters = {\"expected_precision\": 1.0} \n",
    "attributes = [\n",
    "    {\"expected_precision\": 0.8, \"expected_mean\": 1, \"value_coupling_children\": [1]},   # Node 0\n",
    "    {\"expected_precision\": 1.0, \"expected_mean\": 2, \"value_coupling_children\": [0.1]},   # Node 1\n",
    "    {\"expected_precision\": 0.8,  \"expected_mean\": 3, \"value_coupling_children\": [0.5]}       # Node 2\n",
    "]\n",
    "\n",
    "edges = [\n",
    "    AdjacencyLists(0, (), (1,), None, None, None),   # Node 0 has 1 as child\n",
    "    AdjacencyLists(1, (0,), (2,), None, None, None), # Node 1 has Node 2 as child\n",
    "    AdjacencyLists(2, (1,), (), None, None, None)    \n",
    "]\n",
    "# 0 -> 1 -> 2\n",
    "\n",
    "# we calculate the mutual information for node 1\n",
    "mutual_info_sampled1 = calculate_mutual_information_sampled(attributes, edges, 1)\n",
    "mutual_info_sampled2 = calculate_mutual_information_sampled(attributes, edges, 2)\n",
    "print(mutual_info_sampled1)\n",
    "print(mutual_info_sampled2)\n"
   ]
  },
  {
   "cell_type": "markdown",
   "id": "6da1aaa4-5bbe-4579-ad79-1601d79dd09b",
   "metadata": {
    "editable": true,
    "slideshow": {
     "slide_type": ""
    },
    "tags": []
   },
   "source": [
    "## System configuration"
   ]
  },
  {
   "cell_type": "code",
   "execution_count": 64,
   "id": "3738137f-7eaf-49b3-a87a-c542ad949b7c",
   "metadata": {
    "editable": true,
    "execution": {
     "iopub.execute_input": "2024-09-27T12:31:28.353100Z",
     "iopub.status.busy": "2024-09-27T12:31:28.352910Z",
     "iopub.status.idle": "2024-09-27T12:31:28.387836Z",
     "shell.execute_reply": "2024-09-27T12:31:28.386999Z"
    },
    "slideshow": {
     "slide_type": ""
    },
    "tags": []
   },
   "outputs": [
    {
     "name": "stdout",
     "output_type": "stream",
     "text": [
      "The watermark extension is already loaded. To reload it, use:\n",
      "  %reload_ext watermark\n",
      "Last updated: Tue Nov 05 2024\n",
      "\n",
      "Python implementation: CPython\n",
      "Python version       : 3.12.7\n",
      "IPython version      : 8.29.0\n",
      "\n",
      "pyhgf : 0.0.0\n",
      "jax   : 0.4.35\n",
      "jaxlib: 0.4.35\n",
      "\n",
      "pytensor  : 2.25.5\n",
      "pymc      : 5.17.0\n",
      "arviz     : 0.20.0\n",
      "pyhgf     : 0.0.0\n",
      "jax       : 0.4.35\n",
      "IPython   : 8.29.0\n",
      "numpy     : 1.26.0\n",
      "seaborn   : 0.13.2\n",
      "matplotlib: 3.9.2\n",
      "pandas    : 2.2.3\n",
      "sys       : 3.12.7 | packaged by Anaconda, Inc. | (main, Oct  4 2024, 08:28:27) [Clang 14.0.6 ]\n",
      "\n",
      "Watermark: 2.5.0\n",
      "\n"
     ]
    }
   ],
   "source": [
    "%load_ext watermark\n",
    "%watermark -n -u -v -iv -w -p pyhgf,jax,jaxlib"
   ]
  }
 ],
 "metadata": {
  "kernelspec": {
   "display_name": "pyhgf_def",
   "language": "python",
   "name": "pyhgf_def"
  },
  "language_info": {
   "codemirror_mode": {
    "name": "ipython",
    "version": 3
   },
   "file_extension": ".py",
   "mimetype": "text/x-python",
   "name": "python",
   "nbconvert_exporter": "python",
   "pygments_lexer": "ipython3",
   "version": "3.12.7"
  },
  "widgets": {
   "application/vnd.jupyter.widget-state+json": {
    "state": {
     "02ec14f39e5a479380977a31c40dfd0a": {
      "model_module": "@jupyter-widgets/base",
      "model_module_version": "2.0.0",
      "model_name": "LayoutModel",
      "state": {
       "_model_module": "@jupyter-widgets/base",
       "_model_module_version": "2.0.0",
       "_model_name": "LayoutModel",
       "_view_count": null,
       "_view_module": "@jupyter-widgets/base",
       "_view_module_version": "2.0.0",
       "_view_name": "LayoutView",
       "align_content": null,
       "align_items": null,
       "align_self": null,
       "border_bottom": null,
       "border_left": null,
       "border_right": null,
       "border_top": null,
       "bottom": null,
       "display": null,
       "flex": null,
       "flex_flow": null,
       "grid_area": null,
       "grid_auto_columns": null,
       "grid_auto_flow": null,
       "grid_auto_rows": null,
       "grid_column": null,
       "grid_gap": null,
       "grid_row": null,
       "grid_template_areas": null,
       "grid_template_columns": null,
       "grid_template_rows": null,
       "height": null,
       "justify_content": null,
       "justify_items": null,
       "left": null,
       "margin": null,
       "max_height": null,
       "max_width": null,
       "min_height": null,
       "min_width": null,
       "object_fit": null,
       "object_position": null,
       "order": null,
       "overflow": null,
       "padding": null,
       "right": null,
       "top": null,
       "visibility": null,
       "width": null
      }
     },
     "8717a631844b4d42810850ee78bac769": {
      "model_module": "@jupyter-widgets/output",
      "model_module_version": "1.0.0",
      "model_name": "OutputModel",
      "state": {
       "_dom_classes": [],
       "_model_module": "@jupyter-widgets/output",
       "_model_module_version": "1.0.0",
       "_model_name": "OutputModel",
       "_view_count": null,
       "_view_module": "@jupyter-widgets/output",
       "_view_module_version": "1.0.0",
       "_view_name": "OutputView",
       "layout": "IPY_MODEL_fe91237ae86f4f2492c46775824946c9",
       "msg_id": "",
       "outputs": [
        {
         "data": {
          "text/html": "<pre style=\"white-space:pre;overflow-x:auto;line-height:normal;font-family:Menlo,'DejaVu Sans Mono',consolas,'Courier New',monospace\">Sampling chain 1, 0 divergences <span style=\"color: #008000; text-decoration-color: #008000\">━━━━━━━━━━━━━━━━━━━━━━━━━━━━━━━━━━━━━━━━</span> <span style=\"color: #800080; text-decoration-color: #800080\">100%</span> <span style=\"color: #008080; text-decoration-color: #008080\">0:00:00</span> / <span style=\"color: #808000; text-decoration-color: #808000\">0:00:01</span>\n</pre>\n",
          "text/plain": "Sampling chain 1, 0 divergences \u001b[32m━━━━━━━━━━━━━━━━━━━━━━━━━━━━━━━━━━━━━━━━\u001b[0m \u001b[35m100%\u001b[0m \u001b[36m0:00:00\u001b[0m / \u001b[33m0:00:01\u001b[0m\n"
         },
         "metadata": {},
         "output_type": "display_data"
        }
       ],
       "tabbable": null,
       "tooltip": null
      }
     },
     "909a33efc7314d59988a5047b8a5252d": {
      "model_module": "@jupyter-widgets/output",
      "model_module_version": "1.0.0",
      "model_name": "OutputModel",
      "state": {
       "_dom_classes": [],
       "_model_module": "@jupyter-widgets/output",
       "_model_module_version": "1.0.0",
       "_model_name": "OutputModel",
       "_view_count": null,
       "_view_module": "@jupyter-widgets/output",
       "_view_module_version": "1.0.0",
       "_view_name": "OutputView",
       "layout": "IPY_MODEL_02ec14f39e5a479380977a31c40dfd0a",
       "msg_id": "",
       "outputs": [
        {
         "data": {
          "text/html": "<pre style=\"white-space:pre;overflow-x:auto;line-height:normal;font-family:Menlo,'DejaVu Sans Mono',consolas,'Courier New',monospace\">Sampling chain 0, 0 divergences <span style=\"color: #008000; text-decoration-color: #008000\">━━━━━━━━━━━━━━━━━━━━━━━━━━━━━━━━━━━━━━━━</span> <span style=\"color: #800080; text-decoration-color: #800080\">100%</span> <span style=\"color: #008080; text-decoration-color: #008080\">0:00:00</span> / <span style=\"color: #808000; text-decoration-color: #808000\">0:00:03</span>\n</pre>\n",
          "text/plain": "Sampling chain 0, 0 divergences \u001b[32m━━━━━━━━━━━━━━━━━━━━━━━━━━━━━━━━━━━━━━━━\u001b[0m \u001b[35m100%\u001b[0m \u001b[36m0:00:00\u001b[0m / \u001b[33m0:00:03\u001b[0m\n"
         },
         "metadata": {},
         "output_type": "display_data"
        }
       ],
       "tabbable": null,
       "tooltip": null
      }
     },
     "fe91237ae86f4f2492c46775824946c9": {
      "model_module": "@jupyter-widgets/base",
      "model_module_version": "2.0.0",
      "model_name": "LayoutModel",
      "state": {
       "_model_module": "@jupyter-widgets/base",
       "_model_module_version": "2.0.0",
       "_model_name": "LayoutModel",
       "_view_count": null,
       "_view_module": "@jupyter-widgets/base",
       "_view_module_version": "2.0.0",
       "_view_name": "LayoutView",
       "align_content": null,
       "align_items": null,
       "align_self": null,
       "border_bottom": null,
       "border_left": null,
       "border_right": null,
       "border_top": null,
       "bottom": null,
       "display": null,
       "flex": null,
       "flex_flow": null,
       "grid_area": null,
       "grid_auto_columns": null,
       "grid_auto_flow": null,
       "grid_auto_rows": null,
       "grid_column": null,
       "grid_gap": null,
       "grid_row": null,
       "grid_template_areas": null,
       "grid_template_columns": null,
       "grid_template_rows": null,
       "height": null,
       "justify_content": null,
       "justify_items": null,
       "left": null,
       "margin": null,
       "max_height": null,
       "max_width": null,
       "min_height": null,
       "min_width": null,
       "object_fit": null,
       "object_position": null,
       "order": null,
       "overflow": null,
       "padding": null,
       "right": null,
       "top": null,
       "visibility": null,
       "width": null
      }
     }
    },
    "version_major": 2,
    "version_minor": 0
   }
  }
 },
 "nbformat": 4,
 "nbformat_minor": 5
}
