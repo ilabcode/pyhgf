{
 "cells": [
  {
   "cell_type": "markdown",
   "metadata": {},
   "source": [
    "# Latent HGF: BA Project"
   ]
  },
  {
   "cell_type": "code",
   "execution_count": 42,
   "metadata": {},
   "outputs": [],
   "source": [
    "import sys\n",
    "from IPython.utils import io"
   ]
  },
  {
   "cell_type": "code",
   "execution_count": 43,
   "metadata": {},
   "outputs": [],
   "source": [
    "# if 'google.colab' in sys.modules:\n",
    "\n",
    "#   with io.capture_output() as captured:\n",
    "#      ! pip install pyhgf watermark"
   ]
  },
  {
   "cell_type": "code",
   "execution_count": 70,
   "metadata": {},
   "outputs": [],
   "source": [
    "import arviz as az\n",
    "import jax.numpy as jnp\n",
    "import matplotlib.pyplot as plt\n",
    "import pymc as pm\n",
    "import numpy as np\n",
    "import jax\n",
    "\n",
    "from pyhgf import load_data\n",
    "from pyhgf.distribution import HGFDistribution\n",
    "from pyhgf.model import HGF, Network\n",
    "from pyhgf.response import first_level_gaussian_surprise\n",
    "from pyhgf.utils import beliefs_propagation\n",
    "# from pyhgf.updates.structure import add_parent\n",
    "\n",
    "\n",
    "plt.rcParams[\"figure.constrained_layout.use\"] = True"
   ]
  },
  {
   "cell_type": "code",
   "execution_count": 71,
   "metadata": {},
   "outputs": [],
   "source": [
    "# Disable JIT compilation globally\n",
    "jax.config.update(\"jax_disable_jit\", False) # True - If I want the compiler disabled."
   ]
  },
  {
   "cell_type": "code",
   "execution_count": null,
   "metadata": {},
   "outputs": [
    {
     "ename": "FileNotFoundError",
     "evalue": "[Errno 2] No such file or directory: 'c:\\\\Users\\\\hesse\\\\miniconda3\\\\envs\\\\pymc_env\\\\Lib\\\\site-packages\\\\pyhgf\\\\data\\\\usdchf.txt'",
     "output_type": "error",
     "traceback": [
      "\u001b[1;31m---------------------------------------------------------------------------\u001b[0m",
      "\u001b[1;31mFileNotFoundError\u001b[0m                         Traceback (most recent call last)",
      "Cell \u001b[1;32mIn[47], line 1\u001b[0m\n\u001b[1;32m----> 1\u001b[0m timeserie \u001b[38;5;241m=\u001b[39m \u001b[43mload_data\u001b[49m\u001b[43m(\u001b[49m\u001b[38;5;124;43m\"\u001b[39;49m\u001b[38;5;124;43mcontinuous\u001b[39;49m\u001b[38;5;124;43m\"\u001b[39;49m\u001b[43m)\u001b[49m\n\u001b[0;32m      3\u001b[0m \u001b[38;5;66;03m# latent_hgf = (\u001b[39;00m\n\u001b[0;32m      4\u001b[0m \u001b[38;5;66;03m#     Network()\u001b[39;00m\n\u001b[0;32m      5\u001b[0m \u001b[38;5;66;03m#     .add_nodes(precision=1e4)\u001b[39;00m\n\u001b[1;32m   (...)\u001b[0m\n\u001b[0;32m     11\u001b[0m \u001b[38;5;66;03m#     # .add_nodes(precision=1e1, tonic_volatility=-2.0, volatility_children=2)\u001b[39;00m\n\u001b[0;32m     12\u001b[0m \u001b[38;5;66;03m# ).create_belief_propagation_fn()\u001b[39;00m\n\u001b[0;32m     14\u001b[0m latent_hgf \u001b[38;5;241m=\u001b[39m (\n\u001b[0;32m     15\u001b[0m     Network()\n\u001b[0;32m     16\u001b[0m     \u001b[38;5;241m.\u001b[39madd_nodes(precision\u001b[38;5;241m=\u001b[39m\u001b[38;5;241m1e4\u001b[39m)\n\u001b[1;32m   (...)\u001b[0m\n\u001b[0;32m     22\u001b[0m     \u001b[38;5;66;03m# .add_nodes(precision=1e1, tonic_volatility=-2.0, volatility_children=2)\u001b[39;00m\n\u001b[0;32m     23\u001b[0m )\u001b[38;5;241m.\u001b[39mcreate_belief_propagation_fn()\n",
      "File \u001b[1;32mc:\\Users\\hesse\\miniconda3\\envs\\pymc_env\\Lib\\site-packages\\pyhgf\\__init__.py:46\u001b[0m, in \u001b[0;36mload_data\u001b[1;34m(dataset)\u001b[0m\n",
      "File \u001b[1;32mc:\\Users\\hesse\\miniconda3\\envs\\pymc_env\\Lib\\pkgutil.py:453\u001b[0m, in \u001b[0;36mget_data\u001b[1;34m(package, resource)\u001b[0m\n\u001b[0;32m    451\u001b[0m parts\u001b[38;5;241m.\u001b[39minsert(\u001b[38;5;241m0\u001b[39m, os\u001b[38;5;241m.\u001b[39mpath\u001b[38;5;241m.\u001b[39mdirname(mod\u001b[38;5;241m.\u001b[39m\u001b[38;5;18m__file__\u001b[39m))\n\u001b[0;32m    452\u001b[0m resource_name \u001b[38;5;241m=\u001b[39m os\u001b[38;5;241m.\u001b[39mpath\u001b[38;5;241m.\u001b[39mjoin(\u001b[38;5;241m*\u001b[39mparts)\n\u001b[1;32m--> 453\u001b[0m \u001b[38;5;28;01mreturn\u001b[39;00m \u001b[43mloader\u001b[49m\u001b[38;5;241;43m.\u001b[39;49m\u001b[43mget_data\u001b[49m\u001b[43m(\u001b[49m\u001b[43mresource_name\u001b[49m\u001b[43m)\u001b[49m\n",
      "File \u001b[1;32m<frozen importlib._bootstrap_external>:1186\u001b[0m, in \u001b[0;36mget_data\u001b[1;34m(self, path)\u001b[0m\n",
      "\u001b[1;31mFileNotFoundError\u001b[0m: [Errno 2] No such file or directory: 'c:\\\\Users\\\\hesse\\\\miniconda3\\\\envs\\\\pymc_env\\\\Lib\\\\site-packages\\\\pyhgf\\\\data\\\\usdchf.txt'"
     ]
    }
   ],
   "source": [
    "timeserie = load_data(\"continuous\")\n",
    "\n",
    "latent_hgf = (\n",
    "    Network()\n",
    "    .add_nodes(precision=1e4)\n",
    "    .add_nodes(precision=1e4, mean=timeserie[0], tonic_volatility=-13.0, \n",
    "               value_children=0)\n",
    "    .add_nodes(precision=1e1, tonic_volatility=-2.0, value_children=1)\n",
    "    .add_nodes(precision=1e4, mean=timeserie[0], tonic_volatility=-13.0, \n",
    "               value_children=0)\n",
    "    # .add_nodes(precision=1e1, tonic_volatility=-2.0, volatility_children=1)\n",
    "    # .add_nodes(precision=1e4, mean=timeserie[0], tonic_volatility=-13.0, \n",
    "    #          value_children=2)\n",
    "    # .add_nodes(precision=1e1, tonic_volatility=-2.0, volatility_children=2)\n",
    ").create_belief_propagation_fn()"
   ]
  },
  {
   "cell_type": "code",
   "execution_count": 48,
   "metadata": {},
   "outputs": [
    {
     "data": {
      "image/svg+xml": [
       "<?xml version=\"1.0\" encoding=\"UTF-8\" standalone=\"no\"?>\n",
       "<!DOCTYPE svg PUBLIC \"-//W3C//DTD SVG 1.1//EN\"\n",
       " \"http://www.w3.org/Graphics/SVG/1.1/DTD/svg11.dtd\">\n",
       "<!-- Generated by graphviz version 2.50.0 (0)\n",
       " -->\n",
       "<!-- Title: hgf&#45;nodes Pages: 1 -->\n",
       "<svg width=\"98pt\" height=\"188pt\"\n",
       " viewBox=\"0.00 0.00 98.00 188.00\" xmlns=\"http://www.w3.org/2000/svg\" xmlns:xlink=\"http://www.w3.org/1999/xlink\">\n",
       "<g id=\"graph0\" class=\"graph\" transform=\"scale(1 1) rotate(0) translate(4 184)\">\n",
       "<title>hgf&#45;nodes</title>\n",
       "<polygon fill=\"white\" stroke=\"transparent\" points=\"-4,4 -4,-184 94,-184 94,4 -4,4\"/>\n",
       "<!-- x_0 -->\n",
       "<g id=\"node1\" class=\"node\">\n",
       "<title>x_0</title>\n",
       "<ellipse fill=\"lightgrey\" stroke=\"black\" cx=\"45\" cy=\"-18\" rx=\"18\" ry=\"18\"/>\n",
       "<text text-anchor=\"middle\" x=\"45\" y=\"-14.3\" font-family=\"Times New Roman,serif\" font-size=\"14.00\">0</text>\n",
       "</g>\n",
       "<!-- x_1 -->\n",
       "<g id=\"node2\" class=\"node\">\n",
       "<title>x_1</title>\n",
       "<ellipse fill=\"none\" stroke=\"black\" cx=\"18\" cy=\"-90\" rx=\"18\" ry=\"18\"/>\n",
       "<text text-anchor=\"middle\" x=\"18\" y=\"-86.3\" font-family=\"Times New Roman,serif\" font-size=\"14.00\">1</text>\n",
       "</g>\n",
       "<!-- x_1&#45;&gt;x_0 -->\n",
       "<g id=\"edge1\" class=\"edge\">\n",
       "<title>x_1&#45;&gt;x_0</title>\n",
       "<path fill=\"none\" stroke=\"black\" d=\"M24.26,-72.76C27.5,-64.37 31.53,-53.93 35.17,-44.5\"/>\n",
       "<polygon fill=\"black\" stroke=\"black\" points=\"38.44,-45.74 38.77,-35.15 31.91,-43.22 38.44,-45.74\"/>\n",
       "</g>\n",
       "<!-- x_2 -->\n",
       "<g id=\"node3\" class=\"node\">\n",
       "<title>x_2</title>\n",
       "<ellipse fill=\"none\" stroke=\"black\" cx=\"18\" cy=\"-162\" rx=\"18\" ry=\"18\"/>\n",
       "<text text-anchor=\"middle\" x=\"18\" y=\"-158.3\" font-family=\"Times New Roman,serif\" font-size=\"14.00\">2</text>\n",
       "</g>\n",
       "<!-- x_2&#45;&gt;x_1 -->\n",
       "<g id=\"edge2\" class=\"edge\">\n",
       "<title>x_2&#45;&gt;x_1</title>\n",
       "<path fill=\"none\" stroke=\"black\" d=\"M18,-143.7C18,-135.98 18,-126.71 18,-118.11\"/>\n",
       "<polygon fill=\"black\" stroke=\"black\" points=\"21.5,-118.1 18,-108.1 14.5,-118.1 21.5,-118.1\"/>\n",
       "</g>\n",
       "<!-- x_3 -->\n",
       "<g id=\"node4\" class=\"node\">\n",
       "<title>x_3</title>\n",
       "<ellipse fill=\"none\" stroke=\"black\" cx=\"72\" cy=\"-90\" rx=\"18\" ry=\"18\"/>\n",
       "<text text-anchor=\"middle\" x=\"72\" y=\"-86.3\" font-family=\"Times New Roman,serif\" font-size=\"14.00\">3</text>\n",
       "</g>\n",
       "<!-- x_3&#45;&gt;x_0 -->\n",
       "<g id=\"edge3\" class=\"edge\">\n",
       "<title>x_3&#45;&gt;x_0</title>\n",
       "<path fill=\"none\" stroke=\"black\" d=\"M65.74,-72.76C62.5,-64.37 58.47,-53.93 54.83,-44.5\"/>\n",
       "<polygon fill=\"black\" stroke=\"black\" points=\"58.09,-43.22 51.23,-35.15 51.56,-45.74 58.09,-43.22\"/>\n",
       "</g>\n",
       "<!-- x_4 -->\n",
       "<g id=\"node5\" class=\"node\">\n",
       "<title>x_4</title>\n",
       "<ellipse fill=\"none\" stroke=\"black\" cx=\"72\" cy=\"-162\" rx=\"18\" ry=\"18\"/>\n",
       "<text text-anchor=\"middle\" x=\"72\" y=\"-158.3\" font-family=\"Times New Roman,serif\" font-size=\"14.00\">4</text>\n",
       "</g>\n",
       "<!-- x_4&#45;&gt;x_3 -->\n",
       "<g id=\"edge4\" class=\"edge\">\n",
       "<title>x_4&#45;&gt;x_3</title>\n",
       "<path fill=\"none\" stroke=\"gray\" stroke-dasharray=\"5,2\" d=\"M72,-143.7C72,-135.39 72,-125.28 72,-116.14\"/>\n",
       "<ellipse fill=\"gray\" stroke=\"gray\" cx=\"72\" cy=\"-112.1\" rx=\"4\" ry=\"4\"/>\n",
       "</g>\n",
       "</g>\n",
       "</svg>\n"
      ],
      "text/plain": [
       "<graphviz.sources.Source at 0x22a303a35f0>"
      ]
     },
     "execution_count": 48,
     "metadata": {},
     "output_type": "execute_result"
    }
   ],
   "source": [
    "latent_hgf.plot_network()"
   ]
  },
  {
   "cell_type": "code",
   "execution_count": null,
   "metadata": {},
   "outputs": [],
   "source": [
    "attributes, edges, update_sequence = (\n",
    "    latent_hgf.get_network()\n",
    ")\n",
    "\n",
    "new_hgf_attributes, new_hgf_edges = add_parent(attributes, edges, 3, 'volatility')"
   ]
  },
  {
   "cell_type": "code",
   "execution_count": null,
   "metadata": {},
   "outputs": [
    {
     "name": "stdout",
     "output_type": "stream",
     "text": [
      "7\n",
      "6\n"
     ]
    }
   ],
   "source": [
    "print(len(new_hgf_attributes))\n",
    "print(len(new_hgf_edges))"
   ]
  },
  {
   "cell_type": "code",
   "execution_count": null,
   "metadata": {},
   "outputs": [],
   "source": [
    "latent_hgf.attributes = new_hgf_attributes\n",
    "latent_hgf.edges = new_hgf_edges"
   ]
  },
  {
   "cell_type": "code",
   "execution_count": null,
   "metadata": {},
   "outputs": [
    {
     "data": {
      "image/svg+xml": [
       "<?xml version=\"1.0\" encoding=\"UTF-8\" standalone=\"no\"?>\n",
       "<!DOCTYPE svg PUBLIC \"-//W3C//DTD SVG 1.1//EN\"\n",
       " \"http://www.w3.org/Graphics/SVG/1.1/DTD/svg11.dtd\">\n",
       "<!-- Generated by graphviz version 2.50.0 (0)\n",
       " -->\n",
       "<!-- Title: hgf&#45;nodes Pages: 1 -->\n",
       "<svg width=\"98pt\" height=\"188pt\"\n",
       " viewBox=\"0.00 0.00 98.00 188.00\" xmlns=\"http://www.w3.org/2000/svg\" xmlns:xlink=\"http://www.w3.org/1999/xlink\">\n",
       "<g id=\"graph0\" class=\"graph\" transform=\"scale(1 1) rotate(0) translate(4 184)\">\n",
       "<title>hgf&#45;nodes</title>\n",
       "<polygon fill=\"white\" stroke=\"transparent\" points=\"-4,4 -4,-184 94,-184 94,4 -4,4\"/>\n",
       "<!-- x_0 -->\n",
       "<g id=\"node1\" class=\"node\">\n",
       "<title>x_0</title>\n",
       "<ellipse fill=\"lightgrey\" stroke=\"black\" cx=\"45\" cy=\"-18\" rx=\"18\" ry=\"18\"/>\n",
       "<text text-anchor=\"middle\" x=\"45\" y=\"-14.3\" font-family=\"Times New Roman,serif\" font-size=\"14.00\">0</text>\n",
       "</g>\n",
       "<!-- x_1 -->\n",
       "<g id=\"node2\" class=\"node\">\n",
       "<title>x_1</title>\n",
       "<ellipse fill=\"none\" stroke=\"black\" cx=\"18\" cy=\"-90\" rx=\"18\" ry=\"18\"/>\n",
       "<text text-anchor=\"middle\" x=\"18\" y=\"-86.3\" font-family=\"Times New Roman,serif\" font-size=\"14.00\">1</text>\n",
       "</g>\n",
       "<!-- x_1&#45;&gt;x_0 -->\n",
       "<g id=\"edge1\" class=\"edge\">\n",
       "<title>x_1&#45;&gt;x_0</title>\n",
       "<path fill=\"none\" stroke=\"black\" d=\"M24.26,-72.76C27.5,-64.37 31.53,-53.93 35.17,-44.5\"/>\n",
       "<polygon fill=\"black\" stroke=\"black\" points=\"38.44,-45.74 38.77,-35.15 31.91,-43.22 38.44,-45.74\"/>\n",
       "</g>\n",
       "<!-- x_2 -->\n",
       "<g id=\"node3\" class=\"node\">\n",
       "<title>x_2</title>\n",
       "<ellipse fill=\"none\" stroke=\"black\" cx=\"18\" cy=\"-162\" rx=\"18\" ry=\"18\"/>\n",
       "<text text-anchor=\"middle\" x=\"18\" y=\"-158.3\" font-family=\"Times New Roman,serif\" font-size=\"14.00\">2</text>\n",
       "</g>\n",
       "<!-- x_2&#45;&gt;x_1 -->\n",
       "<g id=\"edge2\" class=\"edge\">\n",
       "<title>x_2&#45;&gt;x_1</title>\n",
       "<path fill=\"none\" stroke=\"black\" d=\"M18,-143.7C18,-135.98 18,-126.71 18,-118.11\"/>\n",
       "<polygon fill=\"black\" stroke=\"black\" points=\"21.5,-118.1 18,-108.1 14.5,-118.1 21.5,-118.1\"/>\n",
       "</g>\n",
       "<!-- x_3 -->\n",
       "<g id=\"node4\" class=\"node\">\n",
       "<title>x_3</title>\n",
       "<ellipse fill=\"none\" stroke=\"black\" cx=\"72\" cy=\"-90\" rx=\"18\" ry=\"18\"/>\n",
       "<text text-anchor=\"middle\" x=\"72\" y=\"-86.3\" font-family=\"Times New Roman,serif\" font-size=\"14.00\">3</text>\n",
       "</g>\n",
       "<!-- x_3&#45;&gt;x_0 -->\n",
       "<g id=\"edge3\" class=\"edge\">\n",
       "<title>x_3&#45;&gt;x_0</title>\n",
       "<path fill=\"none\" stroke=\"black\" d=\"M65.74,-72.76C62.5,-64.37 58.47,-53.93 54.83,-44.5\"/>\n",
       "<polygon fill=\"black\" stroke=\"black\" points=\"58.09,-43.22 51.23,-35.15 51.56,-45.74 58.09,-43.22\"/>\n",
       "</g>\n",
       "<!-- x_4 -->\n",
       "<g id=\"node5\" class=\"node\">\n",
       "<title>x_4</title>\n",
       "<ellipse fill=\"none\" stroke=\"black\" cx=\"72\" cy=\"-162\" rx=\"18\" ry=\"18\"/>\n",
       "<text text-anchor=\"middle\" x=\"72\" y=\"-158.3\" font-family=\"Times New Roman,serif\" font-size=\"14.00\">4</text>\n",
       "</g>\n",
       "<!-- x_4&#45;&gt;x_3 -->\n",
       "<g id=\"edge4\" class=\"edge\">\n",
       "<title>x_4&#45;&gt;x_3</title>\n",
       "<path fill=\"none\" stroke=\"gray\" stroke-dasharray=\"5,2\" d=\"M72,-143.7C72,-135.39 72,-125.28 72,-116.14\"/>\n",
       "<ellipse fill=\"gray\" stroke=\"gray\" cx=\"72\" cy=\"-112.1\" rx=\"4\" ry=\"4\"/>\n",
       "</g>\n",
       "</g>\n",
       "</svg>\n"
      ],
      "text/plain": [
       "<graphviz.sources.Source at 0x22a40b9ae40>"
      ]
     },
     "execution_count": 36,
     "metadata": {},
     "output_type": "execute_result"
    }
   ],
   "source": [
    "latent_hgf.plot_network()"
   ]
  },
  {
   "cell_type": "code",
   "execution_count": 56,
   "metadata": {},
   "outputs": [],
   "source": [
    "np.random.seed(123)\n",
    "dist_mean, dist_std = 5, 1\n",
    "input_data = np.random.normal(loc=dist_mean, scale=dist_std, size=1000)"
   ]
  },
  {
   "cell_type": "code",
   "execution_count": 76,
   "metadata": {},
   "outputs": [],
   "source": [
    "# for each observation\n",
    "for value in input_data:\n",
    "\n",
    "    # interleave observations and masks\n",
    "    data = (value, 1.0, 1.0)\n",
    "\n",
    "    # update the probabilistic network\n",
    "    attributes, _ = beliefs_propagation(\n",
    "        attributes=attributes,\n",
    "        inputs=data,\n",
    "        update_sequence=update_sequence,\n",
    "        edges=edges,\n",
    "        input_idxs=latent_hgf.input_idxs\n",
    "    )\n"
   ]
  },
  {
   "cell_type": "code",
   "execution_count": 77,
   "metadata": {},
   "outputs": [
    {
     "data": {
      "text/plain": [
       "{-1: {'time_step': Array(1., dtype=float32, weak_type=True)},\n",
       " 0: {'autoconnection_strength': Array(0., dtype=float32, weak_type=True),\n",
       "  'expected_mean': Array(5.1438637, dtype=float32),\n",
       "  'expected_precision': Array(10000., dtype=float32, weak_type=True),\n",
       "  'mean': Array(3.8885696, dtype=float32),\n",
       "  'observed': Array(1., dtype=float32, weak_type=True),\n",
       "  'precision': Array(10000., dtype=float32, weak_type=True),\n",
       "  'temp': {'effective_precision': Array(0.9999, dtype=float32, weak_type=True),\n",
       "   'value_prediction_error': Array(-0.62764704, dtype=float32),\n",
       "   'volatility_prediction_error': Array(3939.408, dtype=float32)},\n",
       "  'tonic_drift': Array(0., dtype=float32, weak_type=True),\n",
       "  'tonic_volatility': Array(0., dtype=float32, weak_type=True),\n",
       "  'value_coupling_children': None,\n",
       "  'value_coupling_parents': (Array(1., dtype=float32, weak_type=True),\n",
       "   Array(1., dtype=float32, weak_type=True)),\n",
       "  'volatility_coupling_children': None,\n",
       "  'volatility_coupling_parents': None},\n",
       " 1: {'autoconnection_strength': Array(1., dtype=float32, weak_type=True),\n",
       "  'expected_mean': Array(4.1078835, dtype=float32),\n",
       "  'expected_precision': Array(61701.812, dtype=float32, weak_type=True),\n",
       "  'mean': Array(4.0203476, dtype=float32),\n",
       "  'observed': Array(1, dtype=int32, weak_type=True),\n",
       "  'precision': Array(71701.81, dtype=float32, weak_type=True),\n",
       "  'temp': {'effective_precision': Array(0.13946642, dtype=float32, weak_type=True),\n",
       "   'value_prediction_error': Array(-0.08753586, dtype=float32),\n",
       "   'volatility_prediction_error': Array(472.65228, dtype=float32)},\n",
       "  'tonic_drift': Array(0., dtype=float32, weak_type=True),\n",
       "  'tonic_volatility': Array(-13., dtype=float32, weak_type=True),\n",
       "  'value_coupling_children': (Array(1., dtype=float32, weak_type=True),),\n",
       "  'value_coupling_parents': (Array(1., dtype=float32, weak_type=True),),\n",
       "  'volatility_coupling_children': None,\n",
       "  'volatility_coupling_parents': None},\n",
       " 2: {'autoconnection_strength': Array(1., dtype=float32, weak_type=True),\n",
       "  'expected_mean': Array(0.34866714, dtype=float32),\n",
       "  'expected_precision': Array(7.388171, dtype=float32, weak_type=True),\n",
       "  'mean': Array(0.26114178, dtype=float32),\n",
       "  'observed': Array(1, dtype=int32, weak_type=True),\n",
       "  'precision': Array(61709.2, dtype=float32, weak_type=True),\n",
       "  'temp': {'effective_precision': Array(0.99988025, dtype=float32, weak_type=True),\n",
       "   'value_prediction_error': Array(0., dtype=float32, weak_type=True),\n",
       "   'volatility_prediction_error': Array(0., dtype=float32, weak_type=True)},\n",
       "  'tonic_drift': Array(0., dtype=float32, weak_type=True),\n",
       "  'tonic_volatility': Array(-2., dtype=float32, weak_type=True),\n",
       "  'value_coupling_children': (Array(1., dtype=float32, weak_type=True),),\n",
       "  'value_coupling_parents': None,\n",
       "  'volatility_coupling_children': None,\n",
       "  'volatility_coupling_parents': None},\n",
       " 3: {'autoconnection_strength': Array(1., dtype=float32, weak_type=True),\n",
       "  'expected_mean': Array(1.3846478, dtype=float32),\n",
       "  'expected_precision': Array(61701.812, dtype=float32, weak_type=True),\n",
       "  'mean': Array(1.2971121, dtype=float32),\n",
       "  'observed': Array(1, dtype=int32, weak_type=True),\n",
       "  'precision': Array(71701.81, dtype=float32, weak_type=True),\n",
       "  'temp': {'effective_precision': Array(0.13946642, dtype=float32, weak_type=True),\n",
       "   'value_prediction_error': Array(0., dtype=float32, weak_type=True),\n",
       "   'volatility_prediction_error': Array(0., dtype=float32, weak_type=True)},\n",
       "  'tonic_drift': Array(0., dtype=float32, weak_type=True),\n",
       "  'tonic_volatility': Array(-13., dtype=float32, weak_type=True),\n",
       "  'value_coupling_children': (Array(1., dtype=float32, weak_type=True),),\n",
       "  'value_coupling_parents': None,\n",
       "  'volatility_coupling_children': None,\n",
       "  'volatility_coupling_parents': (Array(1., dtype=float32, weak_type=True),\n",
       "   Array(1., dtype=float32, weak_type=True))},\n",
       " 4: {'autoconnection_strength': Array(1., dtype=float32, weak_type=True),\n",
       "  'expected_mean': Array(0., dtype=float32, weak_type=True),\n",
       "  'expected_precision': Array(1., dtype=float32, weak_type=True),\n",
       "  'mean': Array(0., dtype=float32, weak_type=True),\n",
       "  'observed': Array(1, dtype=int32, weak_type=True),\n",
       "  'precision': Array(1., dtype=float32, weak_type=True),\n",
       "  'temp': {'effective_precision': Array(0., dtype=float32, weak_type=True),\n",
       "   'value_prediction_error': Array(0., dtype=float32, weak_type=True),\n",
       "   'volatility_prediction_error': Array(0., dtype=float32, weak_type=True)},\n",
       "  'tonic_drift': Array(0., dtype=float32, weak_type=True),\n",
       "  'tonic_volatility': Array(-4., dtype=float32, weak_type=True),\n",
       "  'value_coupling_children': None,\n",
       "  'value_coupling_parents': None,\n",
       "  'volatility_coupling_children': (Array(1., dtype=float32, weak_type=True),),\n",
       "  'volatility_coupling_parents': None},\n",
       " 5: {'autoconnection_strength': Array(1., dtype=float32, weak_type=True),\n",
       "  'expected_mean': Array(0., dtype=float32, weak_type=True),\n",
       "  'expected_precision': Array(1., dtype=float32, weak_type=True),\n",
       "  'mean': Array(0., dtype=float32, weak_type=True),\n",
       "  'observed': Array(1, dtype=int32, weak_type=True),\n",
       "  'precision': Array(1., dtype=float32, weak_type=True),\n",
       "  'temp': {'effective_precision': Array(0., dtype=float32, weak_type=True),\n",
       "   'value_prediction_error': Array(0., dtype=float32, weak_type=True),\n",
       "   'volatility_prediction_error': Array(0., dtype=float32, weak_type=True)},\n",
       "  'tonic_drift': Array(0., dtype=float32, weak_type=True),\n",
       "  'tonic_volatility': Array(-4., dtype=float32, weak_type=True),\n",
       "  'value_coupling_children': None,\n",
       "  'value_coupling_parents': None,\n",
       "  'volatility_coupling_children': (Array(1., dtype=float32, weak_type=True),),\n",
       "  'volatility_coupling_parents': None}}"
      ]
     },
     "execution_count": 77,
     "metadata": {},
     "output_type": "execute_result"
    }
   ],
   "source": [
    "attributes"
   ]
  }
 ],
 "metadata": {
  "kernelspec": {
   "display_name": "pymc_env",
   "language": "python",
   "name": "python3"
  },
  "language_info": {
   "codemirror_mode": {
    "name": "ipython",
    "version": 3
   },
   "file_extension": ".py",
   "mimetype": "text/x-python",
   "name": "python",
   "nbconvert_exporter": "python",
   "pygments_lexer": "ipython3",
   "version": "3.12.3"
  }
 },
 "nbformat": 4,
 "nbformat_minor": 2
}
