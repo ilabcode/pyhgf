{
 "cells": [
  {
   "cell_type": "code",
   "execution_count": 74,
   "metadata": {},
   "outputs": [],
   "source": [
    "import sys\n",
    "from IPython.utils import io # I made a change - Is this visible in Github?"
   ]
  },
  {
   "cell_type": "code",
   "execution_count": null,
   "metadata": {},
   "outputs": [],
   "source": [
    "# if 'google.colab' in sys.modules:\n",
    "\n",
    "#   with io.capture_output() as captured:\n",
    "#      ! pip install pyhgf watermark"
   ]
  },
  {
   "cell_type": "code",
   "execution_count": 75,
   "metadata": {},
   "outputs": [],
   "source": [
    "import arviz as az\n",
    "import jax.numpy as jnp\n",
    "import matplotlib.pyplot as plt\n",
    "import pymc as pm\n",
    "import numpy as np\n",
    "\n",
    "from pyhgf import load_data\n",
    "from pyhgf.distribution import HGFDistribution\n",
    "from pyhgf.model import HGF, Network\n",
    "from pyhgf.response import first_level_gaussian_surprise\n",
    "from pyhgf.utils import beliefs_propagation\n",
    "\n",
    "plt.rcParams[\"figure.constrained_layout.use\"] = True"
   ]
  },
  {
   "cell_type": "code",
   "execution_count": 3,
   "metadata": {},
   "outputs": [
    {
     "ename": "NameError",
     "evalue": "name 'jax' is not defined",
     "output_type": "error",
     "traceback": [
      "\u001b[1;31m---------------------------------------------------------------------------\u001b[0m",
      "\u001b[1;31mNameError\u001b[0m                                 Traceback (most recent call last)",
      "Cell \u001b[1;32mIn[3], line 2\u001b[0m\n\u001b[0;32m      1\u001b[0m \u001b[38;5;66;03m# Disable JIT compilation globally\u001b[39;00m\n\u001b[1;32m----> 2\u001b[0m \u001b[43mjax\u001b[49m\u001b[38;5;241m.\u001b[39mconfig\u001b[38;5;241m.\u001b[39mupdate(\u001b[38;5;124m\"\u001b[39m\u001b[38;5;124mjax_disable_jit\u001b[39m\u001b[38;5;124m\"\u001b[39m, \u001b[38;5;28;01mFalse\u001b[39;00m) \u001b[38;5;66;03m# True - If I want the compiler disabled.\u001b[39;00m\n",
      "\u001b[1;31mNameError\u001b[0m: name 'jax' is not defined"
     ]
    }
   ],
   "source": [
    "# Disable JIT compilation globally\n",
    "jax.config.update(\"jax_disable_jit\", False) # True - If I want the compiler disabled."
   ]
  },
  {
   "cell_type": "code",
   "execution_count": 76,
   "metadata": {},
   "outputs": [
    {
     "name": "stdout",
     "output_type": "stream",
     "text": [
      "5\n",
      "4\n",
      "{-1: {'time_step': 0.0}, 0: {'mean': 0.0, 'expected_mean': 0.0, 'precision': 10000.0, 'expected_precision': 1.0, 'volatility_coupling_children': None, 'volatility_coupling_parents': (1.0,), 'value_coupling_children': None, 'value_coupling_parents': (1.0,), 'tonic_volatility': 0.0, 'tonic_drift': 0.0, 'autoconnection_strength': 0.0, 'observed': 1, 'temp': {'effective_precision': 0.0, 'value_prediction_error': 0.0, 'volatility_prediction_error': 0.0}}, 1: {'mean': 1.0357, 'expected_mean': 0.0, 'precision': 10000.0, 'expected_precision': 1.0, 'volatility_coupling_children': None, 'volatility_coupling_parents': None, 'value_coupling_children': (1.0,), 'value_coupling_parents': (1.0,), 'tonic_volatility': -13.0, 'tonic_drift': 0.0, 'autoconnection_strength': 1.0, 'observed': 1, 'temp': {'effective_precision': 0.0, 'value_prediction_error': 0.0, 'volatility_prediction_error': 0.0}}, 2: {'mean': 0.0, 'expected_mean': 0.0, 'precision': 10.0, 'expected_precision': 1.0, 'volatility_coupling_children': (1.0,), 'volatility_coupling_parents': None, 'value_coupling_children': None, 'value_coupling_parents': None, 'tonic_volatility': -2.0, 'tonic_drift': 0.0, 'autoconnection_strength': 1.0, 'observed': 1, 'temp': {'effective_precision': 0.0, 'value_prediction_error': 0.0, 'volatility_prediction_error': 0.0}}, 3: {'mean': 1.0357, 'expected_mean': 0.0, 'precision': 10000.0, 'expected_precision': 1.0, 'volatility_coupling_children': None, 'volatility_coupling_parents': None, 'value_coupling_children': (1.0,), 'value_coupling_parents': None, 'tonic_volatility': -13.0, 'tonic_drift': 0.0, 'autoconnection_strength': 1.0, 'observed': 1, 'temp': {'effective_precision': 0.0, 'value_prediction_error': 0.0, 'volatility_prediction_error': 0.0}}}\n"
     ]
    }
   ],
   "source": [
    "latent_hgf = (\n",
    "    Network()\n",
    "    .add_nodes(precision=1e4)\n",
    "    .add_nodes(precision=1e4, mean=timeserie[0], tonic_volatility=-13.0, value_children=0)\n",
    "    .add_nodes(precision=1e1, tonic_volatility=-2.0, volatility_children=0)\n",
    "    .add_nodes(precision=1e4, mean=timeserie[0], tonic_volatility=-13.0, value_children=1)\n",
    "    # .add_nodes(precision=1e1, tonic_volatility=-2.0, volatility_children=1)\n",
    "    # .add_nodes(precision=1e4, mean=timeserie[0], tonic_volatility=-13.0, value_children=2)\n",
    "    # .add_nodes(precision=1e1, tonic_volatility=-2.0, volatility_children=2)\n",
    ").create_belief_propagation_fn()\n",
    "\n",
    "# attributes, edges, update_sequence = (\n",
    "#     latent_hgf.get_network()\n",
    "# )\n",
    "\n",
    "attributes, edges, update_sequence = (\n",
    "    latent_hgf.get_network()\n",
    ")\n",
    "\n",
    "print(len(attributes))\n",
    "print(len(edges))\n",
    "print(attributes)"
   ]
  },
  {
   "cell_type": "code",
   "execution_count": 77,
   "metadata": {},
   "outputs": [
    {
     "data": {
      "image/svg+xml": [
       "<?xml version=\"1.0\" encoding=\"UTF-8\" standalone=\"no\"?>\n",
       "<!DOCTYPE svg PUBLIC \"-//W3C//DTD SVG 1.1//EN\"\n",
       " \"http://www.w3.org/Graphics/SVG/1.1/DTD/svg11.dtd\">\n",
       "<!-- Generated by graphviz version 2.50.0 (0)\n",
       " -->\n",
       "<!-- Title: hgf&#45;nodes Pages: 1 -->\n",
       "<svg width=\"98pt\" height=\"188pt\"\n",
       " viewBox=\"0.00 0.00 98.00 188.00\" xmlns=\"http://www.w3.org/2000/svg\" xmlns:xlink=\"http://www.w3.org/1999/xlink\">\n",
       "<g id=\"graph0\" class=\"graph\" transform=\"scale(1 1) rotate(0) translate(4 184)\">\n",
       "<title>hgf&#45;nodes</title>\n",
       "<polygon fill=\"white\" stroke=\"transparent\" points=\"-4,4 -4,-184 94,-184 94,4 -4,4\"/>\n",
       "<!-- x_0 -->\n",
       "<g id=\"node1\" class=\"node\">\n",
       "<title>x_0</title>\n",
       "<ellipse fill=\"lightgrey\" stroke=\"black\" cx=\"45\" cy=\"-18\" rx=\"18\" ry=\"18\"/>\n",
       "<text text-anchor=\"middle\" x=\"45\" y=\"-14.3\" font-family=\"Times New Roman,serif\" font-size=\"14.00\">0</text>\n",
       "</g>\n",
       "<!-- x_1 -->\n",
       "<g id=\"node2\" class=\"node\">\n",
       "<title>x_1</title>\n",
       "<ellipse fill=\"none\" stroke=\"black\" cx=\"18\" cy=\"-90\" rx=\"18\" ry=\"18\"/>\n",
       "<text text-anchor=\"middle\" x=\"18\" y=\"-86.3\" font-family=\"Times New Roman,serif\" font-size=\"14.00\">1</text>\n",
       "</g>\n",
       "<!-- x_1&#45;&gt;x_0 -->\n",
       "<g id=\"edge1\" class=\"edge\">\n",
       "<title>x_1&#45;&gt;x_0</title>\n",
       "<path fill=\"none\" stroke=\"black\" d=\"M24.26,-72.76C27.5,-64.37 31.53,-53.93 35.17,-44.5\"/>\n",
       "<polygon fill=\"black\" stroke=\"black\" points=\"38.44,-45.74 38.77,-35.15 31.91,-43.22 38.44,-45.74\"/>\n",
       "</g>\n",
       "<!-- x_2 -->\n",
       "<g id=\"node3\" class=\"node\">\n",
       "<title>x_2</title>\n",
       "<ellipse fill=\"none\" stroke=\"black\" cx=\"72\" cy=\"-90\" rx=\"18\" ry=\"18\"/>\n",
       "<text text-anchor=\"middle\" x=\"72\" y=\"-86.3\" font-family=\"Times New Roman,serif\" font-size=\"14.00\">2</text>\n",
       "</g>\n",
       "<!-- x_2&#45;&gt;x_0 -->\n",
       "<g id=\"edge2\" class=\"edge\">\n",
       "<title>x_2&#45;&gt;x_0</title>\n",
       "<path fill=\"none\" stroke=\"gray\" stroke-dasharray=\"5,2\" d=\"M65.74,-72.76C62.3,-63.84 57.96,-52.61 54.15,-42.72\"/>\n",
       "<ellipse fill=\"gray\" stroke=\"gray\" cx=\"52.67\" cy=\"-38.88\" rx=\"4\" ry=\"4\"/>\n",
       "</g>\n",
       "<!-- x_3 -->\n",
       "<g id=\"node4\" class=\"node\">\n",
       "<title>x_3</title>\n",
       "<ellipse fill=\"none\" stroke=\"black\" cx=\"18\" cy=\"-162\" rx=\"18\" ry=\"18\"/>\n",
       "<text text-anchor=\"middle\" x=\"18\" y=\"-158.3\" font-family=\"Times New Roman,serif\" font-size=\"14.00\">3</text>\n",
       "</g>\n",
       "<!-- x_3&#45;&gt;x_1 -->\n",
       "<g id=\"edge3\" class=\"edge\">\n",
       "<title>x_3&#45;&gt;x_1</title>\n",
       "<path fill=\"none\" stroke=\"black\" d=\"M18,-143.7C18,-135.98 18,-126.71 18,-118.11\"/>\n",
       "<polygon fill=\"black\" stroke=\"black\" points=\"21.5,-118.1 18,-108.1 14.5,-118.1 21.5,-118.1\"/>\n",
       "</g>\n",
       "</g>\n",
       "</svg>\n"
      ],
      "text/plain": [
       "<graphviz.sources.Source at 0x18a9a3f27b0>"
      ]
     },
     "execution_count": 77,
     "metadata": {},
     "output_type": "execute_result"
    }
   ],
   "source": [
    "latent_hgf.plot_network()"
   ]
  },
  {
   "cell_type": "code",
   "execution_count": null,
   "metadata": {},
   "outputs": [],
   "source": [
    "\n",
    "from typing import Dict\n",
    "from pyhgf.typing import AdjacencyLists, Edges\n",
    "from pyhgf.utils import add_edges\n",
    "\n",
    "def latent_update(\n",
    "        attributes: Dict,\n",
    "        edges: Edges,\n",
    "        index: int\n",
    "    ):\n",
    "    # Add new node to attributes\n",
    "\n",
    "    print('attributes before changing anything:')\n",
    "    print(attributes)\n",
    "\n",
    "    print('node to be connected to:')\n",
    "    print(index)\n",
    "\n",
    "    new_node_idx = len(edges)  # Use len() to get the next index\n",
    "    print('new_node_idx:')\n",
    "\n",
    "    print(new_node_idx)\n",
    "    attributes[new_node_idx] = {\n",
    "        \"mean\": 0.0,\n",
    "        \"expected_mean\": 0.0,\n",
    "        \"precision\": 1.0,\n",
    "        \"expected_precision\": 1.0,\n",
    "        \"volatility_coupling_children\": None,\n",
    "        \"volatility_coupling_parents\": None,\n",
    "        \"value_coupling_children\": None,\n",
    "        \"value_coupling_parents\": None,\n",
    "        \"tonic_volatility\": -4.0,\n",
    "        \"tonic_drift\": 0.0,\n",
    "        \"autoconnection_strength\": 1.0,\n",
    "        \"observed\": 1,\n",
    "        \"temp\": {\n",
    "            \"effective_precision\": 0.0,\n",
    "            \"value_prediction_error\": 0.0,\n",
    "            \"volatility_prediction_error\": 0.0,\n",
    "        },\n",
    "    }\n",
    "    \n",
    "    # Add new AdjacencyList(empty values) to Edges tuple\n",
    "    new_adj_list = AdjacencyLists(2, None, None, None, None, None)\n",
    "    edges = edges + (new_adj_list,)\n",
    "\n",
    "    print('attributes after adding new empty node:')\n",
    "    print(attributes)\n",
    "    \n",
    "    # Use add_edges to integrate the newly altered attributes and edges\n",
    "    attributes, edges = add_edges(attributes, edges, 'value', new_node_idx, index) # If i understand correctly, the new node is incorrectly coupled to node nr. 1, instread of the intended node nr. 2\n",
    "    \n",
    "    print('attributes after adding value coupling:')\n",
    "    print(attributes)\n",
    "\n",
    "    # Return altered attributes and edges\n",
    "    return attributes, edges"
   ]
  },
  {
   "cell_type": "code",
   "execution_count": 73,
   "metadata": {},
   "outputs": [
    {
     "name": "stdout",
     "output_type": "stream",
     "text": [
      "attributes before changing anything:\n",
      "{-1: {'time_step': 0.0}, 0: {'mean': 0.0, 'expected_mean': 0.0, 'precision': 10000.0, 'expected_precision': 1.0, 'volatility_coupling_children': None, 'volatility_coupling_parents': (1.0,), 'value_coupling_children': None, 'value_coupling_parents': (1.0,), 'tonic_volatility': 0.0, 'tonic_drift': 0.0, 'autoconnection_strength': 0.0, 'observed': 1, 'temp': {'effective_precision': 0.0, 'value_prediction_error': 0.0, 'volatility_prediction_error': 0.0}}, 1: {'mean': 1.0357, 'expected_mean': 0.0, 'precision': 10000.0, 'expected_precision': 1.0, 'volatility_coupling_children': None, 'volatility_coupling_parents': None, 'value_coupling_children': (1.0,), 'value_coupling_parents': (1.0,), 'tonic_volatility': -13.0, 'tonic_drift': 0.0, 'autoconnection_strength': 1.0, 'observed': 1, 'temp': {'effective_precision': 0.0, 'value_prediction_error': 0.0, 'volatility_prediction_error': 0.0}}, 2: {'mean': 0.0, 'expected_mean': 0.0, 'precision': 10.0, 'expected_precision': 1.0, 'volatility_coupling_children': (1.0,), 'volatility_coupling_parents': None, 'value_coupling_children': None, 'value_coupling_parents': None, 'tonic_volatility': -2.0, 'tonic_drift': 0.0, 'autoconnection_strength': 1.0, 'observed': 1, 'temp': {'effective_precision': 0.0, 'value_prediction_error': 0.0, 'volatility_prediction_error': 0.0}}, 3: {'mean': 1.0357, 'expected_mean': 0.0, 'precision': 10000.0, 'expected_precision': 1.0, 'volatility_coupling_children': None, 'volatility_coupling_parents': None, 'value_coupling_children': (1.0,), 'value_coupling_parents': None, 'tonic_volatility': -13.0, 'tonic_drift': 0.0, 'autoconnection_strength': 1.0, 'observed': 1, 'temp': {'effective_precision': 0.0, 'value_prediction_error': 0.0, 'volatility_prediction_error': 0.0}}}\n",
      "node to be connected to:\n",
      "2\n",
      "new_node_idx:\n",
      "4\n",
      "attributes after adding new empty node:\n",
      "{-1: {'time_step': 0.0}, 0: {'mean': 0.0, 'expected_mean': 0.0, 'precision': 10000.0, 'expected_precision': 1.0, 'volatility_coupling_children': None, 'volatility_coupling_parents': (1.0,), 'value_coupling_children': None, 'value_coupling_parents': (1.0,), 'tonic_volatility': 0.0, 'tonic_drift': 0.0, 'autoconnection_strength': 0.0, 'observed': 1, 'temp': {'effective_precision': 0.0, 'value_prediction_error': 0.0, 'volatility_prediction_error': 0.0}}, 1: {'mean': 1.0357, 'expected_mean': 0.0, 'precision': 10000.0, 'expected_precision': 1.0, 'volatility_coupling_children': None, 'volatility_coupling_parents': None, 'value_coupling_children': (1.0,), 'value_coupling_parents': (1.0,), 'tonic_volatility': -13.0, 'tonic_drift': 0.0, 'autoconnection_strength': 1.0, 'observed': 1, 'temp': {'effective_precision': 0.0, 'value_prediction_error': 0.0, 'volatility_prediction_error': 0.0}}, 2: {'mean': 0.0, 'expected_mean': 0.0, 'precision': 10.0, 'expected_precision': 1.0, 'volatility_coupling_children': (1.0,), 'volatility_coupling_parents': None, 'value_coupling_children': None, 'value_coupling_parents': None, 'tonic_volatility': -2.0, 'tonic_drift': 0.0, 'autoconnection_strength': 1.0, 'observed': 1, 'temp': {'effective_precision': 0.0, 'value_prediction_error': 0.0, 'volatility_prediction_error': 0.0}}, 3: {'mean': 1.0357, 'expected_mean': 0.0, 'precision': 10000.0, 'expected_precision': 1.0, 'volatility_coupling_children': None, 'volatility_coupling_parents': None, 'value_coupling_children': (1.0,), 'value_coupling_parents': None, 'tonic_volatility': -13.0, 'tonic_drift': 0.0, 'autoconnection_strength': 1.0, 'observed': 1, 'temp': {'effective_precision': 0.0, 'value_prediction_error': 0.0, 'volatility_prediction_error': 0.0}}, 4: {'mean': 0.0, 'expected_mean': 0.0, 'precision': 1.0, 'expected_precision': 1.0, 'volatility_coupling_children': None, 'volatility_coupling_parents': None, 'value_coupling_children': None, 'value_coupling_parents': None, 'tonic_volatility': -4.0, 'tonic_drift': 0.0, 'autoconnection_strength': 1.0, 'observed': 1, 'temp': {'effective_precision': 0.0, 'value_prediction_error': 0.0, 'volatility_prediction_error': 0.0}}}\n",
      "attributes after adding value coupling:\n",
      "{-1: {'time_step': 0.0}, 0: {'mean': 0.0, 'expected_mean': 0.0, 'precision': 10000.0, 'expected_precision': 1.0, 'volatility_coupling_children': None, 'volatility_coupling_parents': (1.0,), 'value_coupling_children': None, 'value_coupling_parents': (1.0,), 'tonic_volatility': 0.0, 'tonic_drift': 0.0, 'autoconnection_strength': 0.0, 'observed': 1, 'temp': {'effective_precision': 0.0, 'value_prediction_error': 0.0, 'volatility_prediction_error': 0.0}}, 1: {'mean': 1.0357, 'expected_mean': 0.0, 'precision': 10000.0, 'expected_precision': 1.0, 'volatility_coupling_children': None, 'volatility_coupling_parents': None, 'value_coupling_children': (1.0,), 'value_coupling_parents': (1.0,), 'tonic_volatility': -13.0, 'tonic_drift': 0.0, 'autoconnection_strength': 1.0, 'observed': 1, 'temp': {'effective_precision': 0.0, 'value_prediction_error': 0.0, 'volatility_prediction_error': 0.0}}, 2: {'mean': 0.0, 'expected_mean': 0.0, 'precision': 10.0, 'expected_precision': 1.0, 'volatility_coupling_children': (1.0,), 'volatility_coupling_parents': None, 'value_coupling_children': None, 'value_coupling_parents': None, 'tonic_volatility': -2.0, 'tonic_drift': 0.0, 'autoconnection_strength': 1.0, 'observed': 1, 'temp': {'effective_precision': 0.0, 'value_prediction_error': 0.0, 'volatility_prediction_error': 0.0}}, 3: {'mean': 1.0357, 'expected_mean': 0.0, 'precision': 10000.0, 'expected_precision': 1.0, 'volatility_coupling_children': None, 'volatility_coupling_parents': None, 'value_coupling_children': (1.0,), 'value_coupling_parents': (1.0,), 'tonic_volatility': -13.0, 'tonic_drift': 0.0, 'autoconnection_strength': 1.0, 'observed': 1, 'temp': {'effective_precision': 0.0, 'value_prediction_error': 0.0, 'volatility_prediction_error': 0.0}}, 4: {'mean': 0.0, 'expected_mean': 0.0, 'precision': 1.0, 'expected_precision': 1.0, 'volatility_coupling_children': None, 'volatility_coupling_parents': None, 'value_coupling_children': (1.0,), 'value_coupling_parents': None, 'tonic_volatility': -4.0, 'tonic_drift': 0.0, 'autoconnection_strength': 1.0, 'observed': 1, 'temp': {'effective_precision': 0.0, 'value_prediction_error': 0.0, 'volatility_prediction_error': 0.0}}}\n"
     ]
    }
   ],
   "source": [
    "attributes, edges, update_sequence = (\n",
    "    latent_hgf.get_network()\n",
    ")\n",
    "\n",
    "latent_hgf_alt_attributes, latent_hgf_alt_edges = latent_update(attributes, edges, 2)"
   ]
  },
  {
   "cell_type": "code",
   "execution_count": 57,
   "metadata": {},
   "outputs": [
    {
     "name": "stdout",
     "output_type": "stream",
     "text": [
      "6\n",
      "5\n"
     ]
    }
   ],
   "source": [
    "print(len(latent_hgf_alt_attributes))\n",
    "print(len(latent_hgf_alt_edges))"
   ]
  },
  {
   "cell_type": "code",
   "execution_count": 71,
   "metadata": {},
   "outputs": [
    {
     "ename": "TypeError",
     "evalue": "'Network' object does not support item assignment",
     "output_type": "error",
     "traceback": [
      "\u001b[1;31m---------------------------------------------------------------------------\u001b[0m",
      "\u001b[1;31mTypeError\u001b[0m                                 Traceback (most recent call last)",
      "Cell \u001b[1;32mIn[71], line 1\u001b[0m\n\u001b[1;32m----> 1\u001b[0m \u001b[43mlatent_hgf\u001b[49m\u001b[43m[\u001b[49m\u001b[43mattributes\u001b[49m\u001b[43m]\u001b[49m \u001b[38;5;241m=\u001b[39m latent_hgf_alt_attributes\n\u001b[0;32m      2\u001b[0m latent_hgf[edges] \u001b[38;5;241m=\u001b[39m latent_hgf_alt_edges\n",
      "\u001b[1;31mTypeError\u001b[0m: 'Network' object does not support item assignment"
     ]
    }
   ],
   "source": [
    "latent_hgf[attributes] = latent_hgf_alt_attributes\n",
    "latent_hgf[edges] = latent_hgf_alt_edges"
   ]
  }
 ],
 "metadata": {
  "kernelspec": {
   "display_name": "pymc_env",
   "language": "python",
   "name": "python3"
  },
  "language_info": {
   "codemirror_mode": {
    "name": "ipython",
    "version": 3
   },
   "file_extension": ".py",
   "mimetype": "text/x-python",
   "name": "python",
   "nbconvert_exporter": "python",
   "pygments_lexer": "ipython3",
   "version": "3.12.3"
  }
 },
 "nbformat": 4,
 "nbformat_minor": 2
}
